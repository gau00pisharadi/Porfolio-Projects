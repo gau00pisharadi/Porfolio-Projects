{
 "cells": [
  {
   "cell_type": "markdown",
   "id": "0edd40b6",
   "metadata": {},
   "source": [
    "# Data Project: Website Traffic Analysis"
   ]
  },
  {
   "cell_type": "markdown",
   "id": "34c7bf84",
   "metadata": {},
   "source": [
    "The goal of this project is to understand this traffic better, in particular the volume and distribution of events, and to develop ideas how to increase the links' clickrates. We have to answer the following questions:\n",
    "\n",
    "1. How many total pageview events did the links in the provided dataset receive in the full period, how many per day?\n",
    "2. What about the other recorded events?\n",
    "3. Which countries did the pageviews come from?\n",
    "4. What was the overall click rate (clicks/pageviews)?\n",
    "5. How does the clickrate distribute across different links?"
   ]
  },
  {
   "cell_type": "markdown",
   "id": "c433e728",
   "metadata": {},
   "source": [
    "**Importing Relevant Libraries**"
   ]
  },
  {
   "cell_type": "code",
   "execution_count": 2,
   "id": "f3c902d4",
   "metadata": {},
   "outputs": [],
   "source": [
    "import numpy as np\n",
    "import pandas as pd\n",
    "import matplotlib.pyplot as plt\n",
    "import seaborn as sns"
   ]
  },
  {
   "cell_type": "markdown",
   "id": "1543529b",
   "metadata": {},
   "source": [
    "**Loading the csv file as a pandas dataframe**"
   ]
  },
  {
   "cell_type": "code",
   "execution_count": 3,
   "id": "2a334f0c",
   "metadata": {},
   "outputs": [
    {
     "data": {
      "text/html": [
       "<div>\n",
       "<style scoped>\n",
       "    .dataframe tbody tr th:only-of-type {\n",
       "        vertical-align: middle;\n",
       "    }\n",
       "\n",
       "    .dataframe tbody tr th {\n",
       "        vertical-align: top;\n",
       "    }\n",
       "\n",
       "    .dataframe thead th {\n",
       "        text-align: right;\n",
       "    }\n",
       "</style>\n",
       "<table border=\"1\" class=\"dataframe\">\n",
       "  <thead>\n",
       "    <tr style=\"text-align: right;\">\n",
       "      <th></th>\n",
       "      <th>event</th>\n",
       "      <th>date</th>\n",
       "      <th>country</th>\n",
       "      <th>city</th>\n",
       "      <th>artist</th>\n",
       "      <th>album</th>\n",
       "      <th>track</th>\n",
       "      <th>isrc</th>\n",
       "      <th>linkid</th>\n",
       "    </tr>\n",
       "  </thead>\n",
       "  <tbody>\n",
       "    <tr>\n",
       "      <th>0</th>\n",
       "      <td>click</td>\n",
       "      <td>2021-08-21</td>\n",
       "      <td>Saudi Arabia</td>\n",
       "      <td>Jeddah</td>\n",
       "      <td>Tesher</td>\n",
       "      <td>Jalebi Baby</td>\n",
       "      <td>Jalebi Baby</td>\n",
       "      <td>QZNWQ2070741</td>\n",
       "      <td>2d896d31-97b6-4869-967b-1c5fb9cd4bb8</td>\n",
       "    </tr>\n",
       "    <tr>\n",
       "      <th>1</th>\n",
       "      <td>click</td>\n",
       "      <td>2021-08-21</td>\n",
       "      <td>Saudi Arabia</td>\n",
       "      <td>Jeddah</td>\n",
       "      <td>Tesher</td>\n",
       "      <td>Jalebi Baby</td>\n",
       "      <td>Jalebi Baby</td>\n",
       "      <td>QZNWQ2070741</td>\n",
       "      <td>2d896d31-97b6-4869-967b-1c5fb9cd4bb8</td>\n",
       "    </tr>\n",
       "    <tr>\n",
       "      <th>2</th>\n",
       "      <td>click</td>\n",
       "      <td>2021-08-21</td>\n",
       "      <td>India</td>\n",
       "      <td>Ludhiana</td>\n",
       "      <td>Reyanna Maria</td>\n",
       "      <td>So Pretty</td>\n",
       "      <td>So Pretty</td>\n",
       "      <td>USUM72100871</td>\n",
       "      <td>23199824-9cf5-4b98-942a-34965c3b0cc2</td>\n",
       "    </tr>\n",
       "    <tr>\n",
       "      <th>3</th>\n",
       "      <td>click</td>\n",
       "      <td>2021-08-21</td>\n",
       "      <td>France</td>\n",
       "      <td>Unknown</td>\n",
       "      <td>Simone &amp; Simaria, Sebastian Yatra</td>\n",
       "      <td>No Llores Más</td>\n",
       "      <td>No Llores Más</td>\n",
       "      <td>BRUM72003904</td>\n",
       "      <td>35573248-4e49-47c7-af80-08a960fa74cd</td>\n",
       "    </tr>\n",
       "    <tr>\n",
       "      <th>4</th>\n",
       "      <td>click</td>\n",
       "      <td>2021-08-21</td>\n",
       "      <td>Maldives</td>\n",
       "      <td>Malé</td>\n",
       "      <td>Tesher</td>\n",
       "      <td>Jalebi Baby</td>\n",
       "      <td>Jalebi Baby</td>\n",
       "      <td>QZNWQ2070741</td>\n",
       "      <td>2d896d31-97b6-4869-967b-1c5fb9cd4bb8</td>\n",
       "    </tr>\n",
       "  </tbody>\n",
       "</table>\n",
       "</div>"
      ],
      "text/plain": [
       "   event        date       country      city  \\\n",
       "0  click  2021-08-21  Saudi Arabia    Jeddah   \n",
       "1  click  2021-08-21  Saudi Arabia    Jeddah   \n",
       "2  click  2021-08-21         India  Ludhiana   \n",
       "3  click  2021-08-21        France   Unknown   \n",
       "4  click  2021-08-21      Maldives      Malé   \n",
       "\n",
       "                              artist          album          track  \\\n",
       "0                             Tesher    Jalebi Baby    Jalebi Baby   \n",
       "1                             Tesher    Jalebi Baby    Jalebi Baby   \n",
       "2                      Reyanna Maria      So Pretty      So Pretty   \n",
       "3  Simone & Simaria, Sebastian Yatra  No Llores Más  No Llores Más   \n",
       "4                             Tesher    Jalebi Baby    Jalebi Baby   \n",
       "\n",
       "           isrc                                linkid  \n",
       "0  QZNWQ2070741  2d896d31-97b6-4869-967b-1c5fb9cd4bb8  \n",
       "1  QZNWQ2070741  2d896d31-97b6-4869-967b-1c5fb9cd4bb8  \n",
       "2  USUM72100871  23199824-9cf5-4b98-942a-34965c3b0cc2  \n",
       "3  BRUM72003904  35573248-4e49-47c7-af80-08a960fa74cd  \n",
       "4  QZNWQ2070741  2d896d31-97b6-4869-967b-1c5fb9cd4bb8  "
      ]
     },
     "execution_count": 3,
     "metadata": {},
     "output_type": "execute_result"
    }
   ],
   "source": [
    "df=pd.read_csv(r'C:\\Users\\Gautam\\Desktop\\jnotebook\\Projects\\Stratascratch_Website_traffic_analysis\\traffic.csv')\n",
    "df.head()"
   ]
  },
  {
   "cell_type": "markdown",
   "id": "9cbb80f6",
   "metadata": {},
   "source": [
    "# Data Cleaning"
   ]
  },
  {
   "cell_type": "code",
   "execution_count": 4,
   "id": "2003fb6e",
   "metadata": {},
   "outputs": [
    {
     "name": "stdout",
     "output_type": "stream",
     "text": [
      "<class 'pandas.core.frame.DataFrame'>\n",
      "RangeIndex: 226278 entries, 0 to 226277\n",
      "Data columns (total 9 columns):\n",
      " #   Column   Non-Null Count   Dtype \n",
      "---  ------   --------------   ----- \n",
      " 0   event    226278 non-null  object\n",
      " 1   date     226278 non-null  object\n",
      " 2   country  226267 non-null  object\n",
      " 3   city     226267 non-null  object\n",
      " 4   artist   226241 non-null  object\n",
      " 5   album    226273 non-null  object\n",
      " 6   track    226273 non-null  object\n",
      " 7   isrc     219157 non-null  object\n",
      " 8   linkid   226278 non-null  object\n",
      "dtypes: object(9)\n",
      "memory usage: 15.5+ MB\n"
     ]
    }
   ],
   "source": [
    "df.info()"
   ]
  },
  {
   "cell_type": "markdown",
   "id": "5aa86ac0",
   "metadata": {},
   "source": [
    "**Checking for Null values**"
   ]
  },
  {
   "cell_type": "code",
   "execution_count": 5,
   "id": "6d6cab91",
   "metadata": {},
   "outputs": [
    {
     "data": {
      "text/plain": [
       "event         0\n",
       "date          0\n",
       "country      11\n",
       "city         11\n",
       "artist       37\n",
       "album         5\n",
       "track         5\n",
       "isrc       7121\n",
       "linkid        0\n",
       "dtype: int64"
      ]
     },
     "execution_count": 5,
     "metadata": {},
     "output_type": "execute_result"
    }
   ],
   "source": [
    "df.isna().sum()"
   ]
  },
  {
   "cell_type": "markdown",
   "id": "759f1289",
   "metadata": {},
   "source": [
    "Since, there are no null values in the event and linkid column, we can proceed."
   ]
  },
  {
   "cell_type": "markdown",
   "id": "d97ef7b1",
   "metadata": {},
   "source": [
    "**Removing duplicates**"
   ]
  },
  {
   "cell_type": "code",
   "execution_count": 6,
   "id": "9e270f10",
   "metadata": {},
   "outputs": [],
   "source": [
    "df_deduplicated = df.drop_duplicates()"
   ]
  },
  {
   "cell_type": "markdown",
   "id": "0c7bac8e",
   "metadata": {},
   "source": [
    "Since, we can have same event multiple times for a page by the same user, we have to create a copy of the dataframe with the duplicates dropped. "
   ]
  },
  {
   "cell_type": "markdown",
   "id": "925422da",
   "metadata": {},
   "source": [
    "# Data Exploration"
   ]
  },
  {
   "cell_type": "markdown",
   "id": "cecee00d",
   "metadata": {},
   "source": [
    "**Frequency of each event**"
   ]
  },
  {
   "cell_type": "code",
   "execution_count": 74,
   "id": "3b32517c",
   "metadata": {},
   "outputs": [
    {
     "name": "stdout",
     "output_type": "stream",
     "text": [
      "pageview    73360\n",
      "click       32499\n",
      "preview     16708\n",
      "Name: event, dtype: int64\n"
     ]
    },
    {
     "data": {
      "text/plain": [
       "<AxesSubplot:title={'center':'events by count'}, xlabel='event', ylabel='Count'>"
      ]
     },
     "execution_count": 74,
     "metadata": {},
     "output_type": "execute_result"
    },
    {
     "data": {
      "image/png": "[encoded data removed]",
      "text/plain": [
       "<Figure size 720x432 with 1 Axes>"
      ]
     },
     "metadata": {
      "needs_background": "light"
     },
     "output_type": "display_data"
    }
   ],
   "source": [
    "event_count= df_deduplicated['event'].value_counts()\n",
    "print(event_count)\n",
    "plt.figure(figsize=(10,6))\n",
    "plt.title('events by count')\n",
    "sns.histplot(df_deduplicated['event'])"
   ]
  },
  {
   "cell_type": "markdown",
   "id": "ca6a4803",
   "metadata": {},
   "source": [
    "As, we can observe, we have more than `70,000` pageviews and slightly more than `30,000` clicks and less than `20,000` previews."
   ]
  },
  {
   "cell_type": "code",
   "execution_count": 8,
   "id": "804ae5c3",
   "metadata": {},
   "outputs": [
    {
     "data": {
      "text/plain": [
       "('2021-08-25', '2021-08-19')"
      ]
     },
     "execution_count": 8,
     "metadata": {},
     "output_type": "execute_result"
    }
   ],
   "source": [
    "df['date'].max(), df['date'].min()"
   ]
  },
  {
   "cell_type": "markdown",
   "id": "2581ab63",
   "metadata": {},
   "source": [
    "The dataset contains 7 days of data ranging from 19 Aug 2021 to 25 Aug 2021"
   ]
  },
  {
   "cell_type": "markdown",
   "id": "b56916b5",
   "metadata": {},
   "source": [
    "**Number of events per day**"
   ]
  },
  {
   "cell_type": "code",
   "execution_count": 69,
   "id": "53f3ecb1",
   "metadata": {},
   "outputs": [
    {
     "name": "stdout",
     "output_type": "stream",
     "text": [
      "         date  count\n",
      "0  2021-08-19  21156\n",
      "1  2021-08-20  18536\n",
      "2  2021-08-21  16701\n",
      "3  2021-08-22  16927\n",
      "4  2021-08-23  16415\n",
      "5  2021-08-24  16291\n",
      "6  2021-08-25  16541\n"
     ]
    },
    {
     "data": {
      "text/plain": [
       "<AxesSubplot:title={'center':'date by count'}, xlabel='date', ylabel='count'>"
      ]
     },
     "execution_count": 69,
     "metadata": {},
     "output_type": "execute_result"
    },
    {
     "data": {
      "image/png": "[encoded data removed]",
      "text/plain": [
       "<Figure size 720x432 with 1 Axes>"
      ]
     },
     "metadata": {
      "needs_background": "light"
     },
     "output_type": "display_data"
    }
   ],
   "source": [
    "event_count= df_deduplicated.groupby('date').size().drop_duplicates().to_frame('count').reset_index()\n",
    "print(event_count)\n",
    "plt.figure(figsize=(10,6))\n",
    "plt.title('date by count')\n",
    "sns.lineplot(x='date',y='count',data=event_count)"
   ]
  },
  {
   "cell_type": "markdown",
   "id": "a67f40f6",
   "metadata": {},
   "source": [
    "As we can see, there is a sigificant drop in the events over the first 3 days from more than `21,000` to less than `17,000`, after which it stays in that range."
   ]
  },
  {
   "cell_type": "markdown",
   "id": "d99fe41b",
   "metadata": {},
   "source": [
    "**Number of events by countries**"
   ]
  },
  {
   "cell_type": "code",
   "execution_count": 72,
   "id": "3baeccac",
   "metadata": {},
   "outputs": [
    {
     "data": {
      "text/plain": [
       "Saudi Arabia     47334\n",
       "India            42992\n",
       "United States    32558\n",
       "France           15661\n",
       "Iraq              8260\n",
       "                 ...  \n",
       "Samoa                2\n",
       "Macao                2\n",
       "Afghanistan          2\n",
       "Lesotho              1\n",
       "Sint Maarten         1\n",
       "Name: country, Length: 211, dtype: int64"
      ]
     },
     "execution_count": 72,
     "metadata": {},
     "output_type": "execute_result"
    }
   ],
   "source": [
    "country_count=df['country'].value_counts()\n",
    "country_count"
   ]
  },
  {
   "cell_type": "markdown",
   "id": "66c36a4b",
   "metadata": {},
   "source": [
    "Most traffic comes in Saudi Arabia followed by India and United states, while countries like Saint Maarten, Lesotho and Afghanistan have the lowest traffic."
   ]
  },
  {
   "cell_type": "code",
   "execution_count": 73,
   "id": "ec9f6255",
   "metadata": {},
   "outputs": [
    {
     "data": {
      "text/plain": [
       "United States     28664\n",
       "India             18689\n",
       "France            10565\n",
       "Saudi Arabia       7682\n",
       "United Kingdom     5095\n",
       "                  ...  \n",
       "Samoa                 2\n",
       "Macao                 2\n",
       "Afghanistan           2\n",
       "Lesotho               1\n",
       "Sint Maarten          1\n",
       "Name: country, Length: 211, dtype: int64"
      ]
     },
     "execution_count": 73,
     "metadata": {},
     "output_type": "execute_result"
    }
   ],
   "source": [
    "country_count_deduplicated=df_deduplicated['country'].value_counts()\n",
    "country_count_deduplicated"
   ]
  },
  {
   "cell_type": "markdown",
   "id": "575a0d7f",
   "metadata": {},
   "source": [
    "Since, we are dealing with duplicate values, we also have to see this data with the duplicated removed. Here, we can see that United Sates, India and France have the highest trafffic, while it is the countries with the lowest traffic are same as above. "
   ]
  },
  {
   "cell_type": "markdown",
   "id": "f625227a",
   "metadata": {},
   "source": [
    "**Number of each event per day**"
   ]
  },
  {
   "cell_type": "code",
   "execution_count": 11,
   "id": "07ad301a",
   "metadata": {},
   "outputs": [
    {
     "name": "stdout",
     "output_type": "stream",
     "text": [
      "                     count\n",
      "date       event          \n",
      "2021-08-19 click      5860\n",
      "           pageview  13006\n",
      "           preview    2290\n",
      "2021-08-20 click      4999\n",
      "           pageview  11088\n",
      "           preview    2449\n",
      "2021-08-21 click      4279\n",
      "           pageview   9939\n",
      "           preview    2483\n",
      "2021-08-22 preview    2524\n",
      "           pageview   9982\n",
      "           click      4421\n",
      "2021-08-23 click      4314\n",
      "           pageview   9722\n",
      "           preview    2379\n",
      "2021-08-24 click      4231\n",
      "           pageview   9705\n",
      "           preview    2355\n",
      "2021-08-25 click      4395\n",
      "           pageview   9918\n",
      "           preview    2228\n"
     ]
    },
    {
     "data": {
      "text/plain": [
       "<AxesSubplot:title={'center':'Number of events per date'}, xlabel='date', ylabel='count'>"
      ]
     },
     "execution_count": 11,
     "metadata": {},
     "output_type": "execute_result"
    },
    {
     "data": {
      "image/png": "[encoded data removed]",
      "text/plain": [
       "<Figure size 720x432 with 1 Axes>"
      ]
     },
     "metadata": {
      "needs_background": "light"
     },
     "output_type": "display_data"
    }
   ],
   "source": [
    "date_event_count=df_deduplicated.groupby(['date','event']).size().to_frame('count').sort_values(by='date',ascending=True)\n",
    "print(date_event_count)\n",
    "plt.figure(figsize=(10,6))\n",
    "plt.title('Number of events per date')\n",
    "sns.lineplot(x=date_event_count.index.get_level_values('date'),\n",
    "             y=date_event_count['count'],\n",
    "             data='date_event_count',\n",
    "             hue=date_event_count.index.get_level_values('event'))"
   ]
  },
  {
   "cell_type": "markdown",
   "id": "cd4669c3",
   "metadata": {},
   "source": [
    "As we can see, there is a significant drop in the number of clicks in the first 3 days from more than `12,000` to about `10,000`, after which it stays consistent. Pageviews also show a drop from `6000` to `4000`. But, previews show no major change over the time period."
   ]
  },
  {
   "cell_type": "markdown",
   "id": "1df62290",
   "metadata": {},
   "source": [
    "# Question 1\n",
    "\n",
    "**How many total pageview events did the links in the provided dataset receive in the full period, how many per day?**"
   ]
  },
  {
   "cell_type": "markdown",
   "id": "bb9385d0",
   "metadata": {},
   "source": [
    "**Total pageview events**"
   ]
  },
  {
   "cell_type": "code",
   "execution_count": 12,
   "id": "37e32d89",
   "metadata": {},
   "outputs": [
    {
     "name": "stdout",
     "output_type": "stream",
     "text": [
      "pageview    73360\n",
      "Name: event, dtype: int64\n"
     ]
    }
   ],
   "source": [
    "pageview_total=df_deduplicated[df_deduplicated['event']=='pageview']['event'].value_counts()\n",
    "print(pageview_total)"
   ]
  },
  {
   "cell_type": "markdown",
   "id": "c223bfb3",
   "metadata": {},
   "source": [
    "**Pageview Events Per Day**"
   ]
  },
  {
   "cell_type": "code",
   "execution_count": 13,
   "id": "28460b26",
   "metadata": {},
   "outputs": [
    {
     "name": "stdout",
     "output_type": "stream",
     "text": [
      "                     number of pageviews\n",
      "event    date                           \n",
      "pageview 2021-08-19                13006\n",
      "         2021-08-20                11088\n",
      "         2021-08-21                 9939\n",
      "         2021-08-22                 9982\n",
      "         2021-08-23                 9722\n",
      "         2021-08-24                 9705\n",
      "         2021-08-25                 9918\n"
     ]
    },
    {
     "data": {
      "text/plain": [
       "<AxesSubplot:title={'center':'Number of pageviews per date'}, xlabel='date', ylabel='number of pageviews'>"
      ]
     },
     "execution_count": 13,
     "metadata": {},
     "output_type": "execute_result"
    },
    {
     "data": {
      "image/png": "[encoded data removed]",
      "text/plain": [
       "<Figure size 720x432 with 1 Axes>"
      ]
     },
     "metadata": {
      "needs_background": "light"
     },
     "output_type": "display_data"
    }
   ],
   "source": [
    "pageview_per_day=df_deduplicated[df_deduplicated['event']=='pageview'].groupby(['event','date']).size().to_frame('number of pageviews')\n",
    "print(pageview_per_day)\n",
    "plt.figure(figsize=(10,6))\n",
    "plt.title('Number of pageviews per date')\n",
    "sns.lineplot(x=pageview_per_day.index.get_level_values('date'),\n",
    "             y=pageview_per_day['number of pageviews'],\n",
    "             data='pageview_per_day')"
   ]
  },
  {
   "cell_type": "markdown",
   "id": "17c84555",
   "metadata": {},
   "source": [
    "We see a significant drop in the number of pageviews from `13,000` to less than `10,000` in the first 3 days then it drops further over the by the 5th day, and finally showing a slight increase by the 7th day."
   ]
  },
  {
   "cell_type": "markdown",
   "id": "cc109b8f",
   "metadata": {},
   "source": [
    "# Question 2\n",
    "\n",
    "**What about the other recorded events?**"
   ]
  },
  {
   "cell_type": "markdown",
   "id": "6cb2a421",
   "metadata": {},
   "source": [
    "**Total number of each event**"
   ]
  },
  {
   "cell_type": "code",
   "execution_count": 14,
   "id": "0edb5925",
   "metadata": {},
   "outputs": [
    {
     "name": "stdout",
     "output_type": "stream",
     "text": [
      "pageview    73360\n",
      "click       32499\n",
      "preview     16708\n",
      "Name: event, dtype: int64\n"
     ]
    },
    {
     "data": {
      "text/plain": [
       "<AxesSubplot:title={'center':'Events by count'}, xlabel='event', ylabel='Count'>"
      ]
     },
     "execution_count": 14,
     "metadata": {},
     "output_type": "execute_result"
    },
    {
     "data": {
      "image/png": "[encoded data removed]",
      "text/plain": [
       "<Figure size 720x432 with 1 Axes>"
      ]
     },
     "metadata": {
      "needs_background": "light"
     },
     "output_type": "display_data"
    }
   ],
   "source": [
    "event_count= df_deduplicated['event'].value_counts()\n",
    "print(event_count)\n",
    "plt.figure(figsize=(10,6))\n",
    "plt.title('Events by count')\n",
    "sns.histplot(df_deduplicated['event'])"
   ]
  },
  {
   "cell_type": "markdown",
   "id": "fbbfaed1",
   "metadata": {},
   "source": [
    "As we also observed previously, we have more than `70,000` pageviews, which is about twice more than the number of clicks and about four time more than the number of previews."
   ]
  },
  {
   "cell_type": "markdown",
   "id": "55417fa0",
   "metadata": {},
   "source": [
    "**Total number of each event per day**"
   ]
  },
  {
   "cell_type": "code",
   "execution_count": 15,
   "id": "5211a25a",
   "metadata": {},
   "outputs": [
    {
     "name": "stdout",
     "output_type": "stream",
     "text": [
      "                     count\n",
      "date       event          \n",
      "2021-08-19 click      5860\n",
      "           pageview  13006\n",
      "           preview    2290\n",
      "2021-08-20 click      4999\n",
      "           pageview  11088\n",
      "           preview    2449\n",
      "2021-08-21 click      4279\n",
      "           pageview   9939\n",
      "           preview    2483\n",
      "2021-08-22 preview    2524\n",
      "           pageview   9982\n",
      "           click      4421\n",
      "2021-08-23 click      4314\n",
      "           pageview   9722\n",
      "           preview    2379\n",
      "2021-08-24 click      4231\n",
      "           pageview   9705\n",
      "           preview    2355\n",
      "2021-08-25 click      4395\n",
      "           pageview   9918\n",
      "           preview    2228\n"
     ]
    },
    {
     "data": {
      "text/plain": [
       "<AxesSubplot:title={'center':'Number of events per date'}, xlabel='date', ylabel='count'>"
      ]
     },
     "execution_count": 15,
     "metadata": {},
     "output_type": "execute_result"
    },
    {
     "data": {
      "image/png": "[encoded data removed]",
      "text/plain": [
       "<Figure size 720x432 with 1 Axes>"
      ]
     },
     "metadata": {
      "needs_background": "light"
     },
     "output_type": "display_data"
    }
   ],
   "source": [
    "date_event_count=df_deduplicated.groupby(['date','event']).size().to_frame('count').sort_values(by='date',ascending=True)\n",
    "print(date_event_count)\n",
    "plt.figure(figsize=(10,6))\n",
    "plt.title('Number of events per date')\n",
    "sns.lineplot(x=date_event_count.index.get_level_values('date'),\n",
    "             y=date_event_count['count'],\n",
    "             data='date_event_count',\n",
    "             hue=date_event_count.index.get_level_values('event'))"
   ]
  },
  {
   "cell_type": "markdown",
   "id": "5789f3b2",
   "metadata": {},
   "source": [
    "As we have also seen previously, there is a significant drop in the number of clicks in the first 3 days from more than `12,000` to about `10,000`, after which it stays consistent. Pageviews also show a drop from `6000` to `4000`. But, previews show no major change over the time period and stay around `2000`."
   ]
  },
  {
   "cell_type": "markdown",
   "id": "df5624c1",
   "metadata": {},
   "source": [
    "# Question 3 \n",
    "\n",
    "**Which countries did the pageviews come from?**"
   ]
  },
  {
   "cell_type": "code",
   "execution_count": 76,
   "id": "0c85b868",
   "metadata": {},
   "outputs": [
    {
     "name": "stdout",
     "output_type": "stream",
     "text": [
      "                      country  count\n",
      "0               United States  18131\n",
      "1                       India  10565\n",
      "2                      France   6181\n",
      "3                Saudi Arabia   3712\n",
      "4              United Kingdom   3218\n",
      "..                        ...    ...\n",
      "206    Principality of Monaco      1\n",
      "207              Saint Martin      1\n",
      "208         Wallis and Futuna      1\n",
      "209  Central African Republic      1\n",
      "210           Solomon Islands      1\n",
      "\n",
      "[211 rows x 2 columns]\n"
     ]
    },
    {
     "data": {
      "text/plain": [
       "<AxesSubplot:title={'center':'Top 10 countries with highest number of pageviews'}, xlabel='country', ylabel='count'>"
      ]
     },
     "execution_count": 76,
     "metadata": {},
     "output_type": "execute_result"
    },
    {
     "data": {
      "image/png": "[encoded data removed]",
      "text/plain": [
       "<Figure size 1080x432 with 1 Axes>"
      ]
     },
     "metadata": {
      "needs_background": "light"
     },
     "output_type": "display_data"
    }
   ],
   "source": [
    "country_pageview=df_deduplicated[df_deduplicated['event']=='pageview'].groupby('country').size().sort_values(ascending=False).to_frame('count').reset_index()\n",
    "print(country_pageview)\n",
    "\n",
    "plt.figure(figsize=(15,6))\n",
    "plt.title('Top 10 countries with highest number of pageviews')\n",
    "sns.barplot(x='country',y='count',data=country_pageview.head(10) )"
   ]
  },
  {
   "cell_type": "markdown",
   "id": "b06c0864",
   "metadata": {},
   "source": [
    "Highest number of pageviews come from the United States with over `17,500` pagevies,followed by India with `10,000` pageviews and France with more than `5000` pageviews, Solomon Islands, Central African Republic, and Wallis and Futuna have the lowest number of pageviews with only `1` pageview each."
   ]
  },
  {
   "cell_type": "markdown",
   "id": "e3960494",
   "metadata": {},
   "source": [
    "# Question 4\n",
    "\n",
    "**What was the overall click rate (clicks/pageviews)?**"
   ]
  },
  {
   "cell_type": "code",
   "execution_count": 17,
   "id": "429bc5c7",
   "metadata": {},
   "outputs": [
    {
     "data": {
      "text/plain": [
       "1.3162994330007896"
      ]
     },
     "execution_count": 17,
     "metadata": {},
     "output_type": "execute_result"
    }
   ],
   "source": [
    "click_per_pageview=len(df_deduplicated[df_deduplicated['event']=='pageview'])/len(df[df['event']=='click'])\n",
    "click_per_pageview"
   ]
  },
  {
   "cell_type": "markdown",
   "id": "42609cb9",
   "metadata": {},
   "source": [
    "Overall click rate for all the links."
   ]
  },
  {
   "cell_type": "markdown",
   "id": "27b98f8d",
   "metadata": {},
   "source": [
    "**Creating seperate dataframes for clicks and pageviews**\n",
    "\n",
    "We want to see the click rate for each link, therefore, we fave to create two dataframes containing the clicks and pageviews seperately."
   ]
  },
  {
   "cell_type": "code",
   "execution_count": 18,
   "id": "923f54a5",
   "metadata": {},
   "outputs": [],
   "source": [
    "link_clicks = df[df[\"event\"] == \"click\"].groupby(by=\"linkid\")[\"event\"].count().reset_index()\n",
    "link_clicks = link_clicks.rename(columns={\"event\": \"clicks\"})\n",
    "\n",
    "pageviews = df[df[\"event\"] == \"pageview\"].groupby(by=\"linkid\")[\"event\"].count().reset_index()\n",
    "pageviews = pageviews.rename(columns={\"event\": \"pageviews\" })"
   ]
  },
  {
   "cell_type": "code",
   "execution_count": 19,
   "id": "4a714571",
   "metadata": {},
   "outputs": [
    {
     "data": {
      "text/html": [
       "<div>\n",
       "<style scoped>\n",
       "    .dataframe tbody tr th:only-of-type {\n",
       "        vertical-align: middle;\n",
       "    }\n",
       "\n",
       "    .dataframe tbody tr th {\n",
       "        vertical-align: top;\n",
       "    }\n",
       "\n",
       "    .dataframe thead th {\n",
       "        text-align: right;\n",
       "    }\n",
       "</style>\n",
       "<table border=\"1\" class=\"dataframe\">\n",
       "  <thead>\n",
       "    <tr style=\"text-align: right;\">\n",
       "      <th></th>\n",
       "      <th>linkid</th>\n",
       "      <th>clicks</th>\n",
       "      <th>pageviews</th>\n",
       "    </tr>\n",
       "  </thead>\n",
       "  <tbody>\n",
       "    <tr>\n",
       "      <th>0</th>\n",
       "      <td>00126b32-0c35-507b-981c-02c80d2aa8e7</td>\n",
       "      <td>2</td>\n",
       "      <td>2</td>\n",
       "    </tr>\n",
       "    <tr>\n",
       "      <th>1</th>\n",
       "      <td>004b9724-abca-5481-b6e9-6148a7ca00a5</td>\n",
       "      <td>1</td>\n",
       "      <td>1</td>\n",
       "    </tr>\n",
       "    <tr>\n",
       "      <th>2</th>\n",
       "      <td>0063a982-41cd-5629-96d0-e1c4dd72ea11</td>\n",
       "      <td>2</td>\n",
       "      <td>3</td>\n",
       "    </tr>\n",
       "    <tr>\n",
       "      <th>3</th>\n",
       "      <td>006af6a0-1f0d-4b0c-93bf-756af9071c06</td>\n",
       "      <td>8</td>\n",
       "      <td>36</td>\n",
       "    </tr>\n",
       "    <tr>\n",
       "      <th>4</th>\n",
       "      <td>00759b81-3f04-4a61-b934-f8fb3185f4a0</td>\n",
       "      <td>3</td>\n",
       "      <td>4</td>\n",
       "    </tr>\n",
       "    <tr>\n",
       "      <th>...</th>\n",
       "      <td>...</td>\n",
       "      <td>...</td>\n",
       "      <td>...</td>\n",
       "    </tr>\n",
       "    <tr>\n",
       "      <th>2248</th>\n",
       "      <td>ffd8d5a7-91bc-48e1-a692-c26fca8a8ead</td>\n",
       "      <td>29</td>\n",
       "      <td>84</td>\n",
       "    </tr>\n",
       "    <tr>\n",
       "      <th>2249</th>\n",
       "      <td>fff38ca0-8043-50cd-a5f1-f65ebb7105c5</td>\n",
       "      <td>1</td>\n",
       "      <td>1</td>\n",
       "    </tr>\n",
       "    <tr>\n",
       "      <th>2250</th>\n",
       "      <td>fff84c0e-90a1-59d8-9997-adc909d50e16</td>\n",
       "      <td>1</td>\n",
       "      <td>1</td>\n",
       "    </tr>\n",
       "    <tr>\n",
       "      <th>2251</th>\n",
       "      <td>fffc17a7-f935-5d3e-bd3e-d761fd80d479</td>\n",
       "      <td>1</td>\n",
       "      <td>2</td>\n",
       "    </tr>\n",
       "    <tr>\n",
       "      <th>2252</th>\n",
       "      <td>fffd0045-29de-522b-b5d8-35786363bf07</td>\n",
       "      <td>1</td>\n",
       "      <td>2</td>\n",
       "    </tr>\n",
       "  </tbody>\n",
       "</table>\n",
       "<p>2253 rows × 3 columns</p>\n",
       "</div>"
      ],
      "text/plain": [
       "                                    linkid  clicks  pageviews\n",
       "0     00126b32-0c35-507b-981c-02c80d2aa8e7       2          2\n",
       "1     004b9724-abca-5481-b6e9-6148a7ca00a5       1          1\n",
       "2     0063a982-41cd-5629-96d0-e1c4dd72ea11       2          3\n",
       "3     006af6a0-1f0d-4b0c-93bf-756af9071c06       8         36\n",
       "4     00759b81-3f04-4a61-b934-f8fb3185f4a0       3          4\n",
       "...                                    ...     ...        ...\n",
       "2248  ffd8d5a7-91bc-48e1-a692-c26fca8a8ead      29         84\n",
       "2249  fff38ca0-8043-50cd-a5f1-f65ebb7105c5       1          1\n",
       "2250  fff84c0e-90a1-59d8-9997-adc909d50e16       1          1\n",
       "2251  fffc17a7-f935-5d3e-bd3e-d761fd80d479       1          2\n",
       "2252  fffd0045-29de-522b-b5d8-35786363bf07       1          2\n",
       "\n",
       "[2253 rows x 3 columns]"
      ]
     },
     "execution_count": 19,
     "metadata": {},
     "output_type": "execute_result"
    }
   ],
   "source": [
    "link_merged= pd.merge(link_clicks,pageviews,on='linkid',how='inner')\n",
    "link_merged"
   ]
  },
  {
   "cell_type": "code",
   "execution_count": 20,
   "id": "49204b8d",
   "metadata": {},
   "outputs": [
    {
     "data": {
      "text/html": [
       "<div>\n",
       "<style scoped>\n",
       "    .dataframe tbody tr th:only-of-type {\n",
       "        vertical-align: middle;\n",
       "    }\n",
       "\n",
       "    .dataframe tbody tr th {\n",
       "        vertical-align: top;\n",
       "    }\n",
       "\n",
       "    .dataframe thead th {\n",
       "        text-align: right;\n",
       "    }\n",
       "</style>\n",
       "<table border=\"1\" class=\"dataframe\">\n",
       "  <thead>\n",
       "    <tr style=\"text-align: right;\">\n",
       "      <th></th>\n",
       "      <th>linkid</th>\n",
       "      <th>clicks</th>\n",
       "      <th>pageviews</th>\n",
       "      <th>click_rate</th>\n",
       "    </tr>\n",
       "  </thead>\n",
       "  <tbody>\n",
       "    <tr>\n",
       "      <th>0</th>\n",
       "      <td>00126b32-0c35-507b-981c-02c80d2aa8e7</td>\n",
       "      <td>2</td>\n",
       "      <td>2</td>\n",
       "      <td>1.000000</td>\n",
       "    </tr>\n",
       "    <tr>\n",
       "      <th>1</th>\n",
       "      <td>004b9724-abca-5481-b6e9-6148a7ca00a5</td>\n",
       "      <td>1</td>\n",
       "      <td>1</td>\n",
       "      <td>1.000000</td>\n",
       "    </tr>\n",
       "    <tr>\n",
       "      <th>2</th>\n",
       "      <td>0063a982-41cd-5629-96d0-e1c4dd72ea11</td>\n",
       "      <td>2</td>\n",
       "      <td>3</td>\n",
       "      <td>0.666667</td>\n",
       "    </tr>\n",
       "    <tr>\n",
       "      <th>3</th>\n",
       "      <td>006af6a0-1f0d-4b0c-93bf-756af9071c06</td>\n",
       "      <td>8</td>\n",
       "      <td>36</td>\n",
       "      <td>0.222222</td>\n",
       "    </tr>\n",
       "    <tr>\n",
       "      <th>4</th>\n",
       "      <td>00759b81-3f04-4a61-b934-f8fb3185f4a0</td>\n",
       "      <td>3</td>\n",
       "      <td>4</td>\n",
       "      <td>0.750000</td>\n",
       "    </tr>\n",
       "    <tr>\n",
       "      <th>...</th>\n",
       "      <td>...</td>\n",
       "      <td>...</td>\n",
       "      <td>...</td>\n",
       "      <td>...</td>\n",
       "    </tr>\n",
       "    <tr>\n",
       "      <th>2248</th>\n",
       "      <td>ffd8d5a7-91bc-48e1-a692-c26fca8a8ead</td>\n",
       "      <td>29</td>\n",
       "      <td>84</td>\n",
       "      <td>0.345238</td>\n",
       "    </tr>\n",
       "    <tr>\n",
       "      <th>2249</th>\n",
       "      <td>fff38ca0-8043-50cd-a5f1-f65ebb7105c5</td>\n",
       "      <td>1</td>\n",
       "      <td>1</td>\n",
       "      <td>1.000000</td>\n",
       "    </tr>\n",
       "    <tr>\n",
       "      <th>2250</th>\n",
       "      <td>fff84c0e-90a1-59d8-9997-adc909d50e16</td>\n",
       "      <td>1</td>\n",
       "      <td>1</td>\n",
       "      <td>1.000000</td>\n",
       "    </tr>\n",
       "    <tr>\n",
       "      <th>2251</th>\n",
       "      <td>fffc17a7-f935-5d3e-bd3e-d761fd80d479</td>\n",
       "      <td>1</td>\n",
       "      <td>2</td>\n",
       "      <td>0.500000</td>\n",
       "    </tr>\n",
       "    <tr>\n",
       "      <th>2252</th>\n",
       "      <td>fffd0045-29de-522b-b5d8-35786363bf07</td>\n",
       "      <td>1</td>\n",
       "      <td>2</td>\n",
       "      <td>0.500000</td>\n",
       "    </tr>\n",
       "  </tbody>\n",
       "</table>\n",
       "<p>2253 rows × 4 columns</p>\n",
       "</div>"
      ],
      "text/plain": [
       "                                    linkid  clicks  pageviews  click_rate\n",
       "0     00126b32-0c35-507b-981c-02c80d2aa8e7       2          2    1.000000\n",
       "1     004b9724-abca-5481-b6e9-6148a7ca00a5       1          1    1.000000\n",
       "2     0063a982-41cd-5629-96d0-e1c4dd72ea11       2          3    0.666667\n",
       "3     006af6a0-1f0d-4b0c-93bf-756af9071c06       8         36    0.222222\n",
       "4     00759b81-3f04-4a61-b934-f8fb3185f4a0       3          4    0.750000\n",
       "...                                    ...     ...        ...         ...\n",
       "2248  ffd8d5a7-91bc-48e1-a692-c26fca8a8ead      29         84    0.345238\n",
       "2249  fff38ca0-8043-50cd-a5f1-f65ebb7105c5       1          1    1.000000\n",
       "2250  fff84c0e-90a1-59d8-9997-adc909d50e16       1          1    1.000000\n",
       "2251  fffc17a7-f935-5d3e-bd3e-d761fd80d479       1          2    0.500000\n",
       "2252  fffd0045-29de-522b-b5d8-35786363bf07       1          2    0.500000\n",
       "\n",
       "[2253 rows x 4 columns]"
      ]
     },
     "execution_count": 20,
     "metadata": {},
     "output_type": "execute_result"
    }
   ],
   "source": [
    "link_merged['click_rate']=link_merged['clicks']/link_merged['pageviews']\n",
    "link_merged"
   ]
  },
  {
   "cell_type": "markdown",
   "id": "bf2ade96",
   "metadata": {},
   "source": [
    "# Question 5 \n",
    "\n",
    "**How does the clickrate distribute across different links?**"
   ]
  },
  {
   "cell_type": "code",
   "execution_count": 22,
   "id": "b6e26fe4",
   "metadata": {},
   "outputs": [
    {
     "data": {
      "text/plain": [
       "count    2253.000000\n",
       "mean        0.809920\n",
       "std         1.958030\n",
       "min         0.090909\n",
       "25%         0.500000\n",
       "50%         1.000000\n",
       "75%         1.000000\n",
       "max        92.300000\n",
       "Name: click_rate, dtype: float64"
      ]
     },
     "execution_count": 22,
     "metadata": {},
     "output_type": "execute_result"
    }
   ],
   "source": [
    "link_merged['click_rate'].describe()"
   ]
  },
  {
   "cell_type": "markdown",
   "id": "f3959ce1",
   "metadata": {},
   "source": [
    "Using the `.describe()`, we can see the the count (number of links), the mean, standard deviation, min, max, as well as the value of the click rate at the 25, 50, and 75th percentile."
   ]
  },
  {
   "cell_type": "code",
   "execution_count": 23,
   "id": "8c288991",
   "metadata": {},
   "outputs": [
    {
     "data": {
      "text/plain": [
       "<AxesSubplot:title={'center':'Events by count'}, xlabel='click_rate', ylabel='Count'>"
      ]
     },
     "execution_count": 23,
     "metadata": {},
     "output_type": "execute_result"
    },
    {
     "data": {
      "image/png": "[encoded data removed]",
      "text/plain": [
       "<Figure size 720x432 with 1 Axes>"
      ]
     },
     "metadata": {
      "needs_background": "light"
     },
     "output_type": "display_data"
    }
   ],
   "source": [
    "plt.figure(figsize=(10,6))\n",
    "plt.title('Events by count')\n",
    "sns.histplot(link_merged['click_rate'])"
   ]
  },
  {
   "cell_type": "markdown",
   "id": "37c2290a",
   "metadata": {},
   "source": [
    "Since the data is highly skewed to the left, we have to use a log scale to get a clearer distribution. We can use the `np.log10()` to convert the given data to log scale."
   ]
  },
  {
   "cell_type": "code",
   "execution_count": 32,
   "id": "6cada5ca",
   "metadata": {},
   "outputs": [
    {
     "data": {
      "text/plain": [
       "<AxesSubplot:title={'center':'Events by count'}, xlabel='log_click_rate', ylabel='Count'>"
      ]
     },
     "execution_count": 32,
     "metadata": {},
     "output_type": "execute_result"
    },
    {
     "data": {
      "image/png": "[encoded data removed]",
      "text/plain": [
       "<Figure size 720x432 with 1 Axes>"
      ]
     },
     "metadata": {
      "needs_background": "light"
     },
     "output_type": "display_data"
    }
   ],
   "source": [
    "link_merged['log_click_rate']= np.log10(link_merged['click_rate'])\n",
    "plt.figure(figsize=(10,6))\n",
    "plt.title('Events by count')\n",
    "sns.histplot(link_merged['log_click_rate'])"
   ]
  },
  {
   "cell_type": "markdown",
   "id": "ac46f445",
   "metadata": {},
   "source": [
    "We can see that a big spike at `0`, this means that the actual click rate was `1`. This implies that there many links which were viewed and clicked on exactly once. we also see spikes on values less than zero, implying that many links were viewd many times but clicked fewer times."
   ]
  },
  {
   "cell_type": "code",
   "execution_count": 33,
   "id": "2af42d64",
   "metadata": {},
   "outputs": [
    {
     "data": {
      "image/png": "[encoded data removed]",
      "text/plain": [
       "<Figure size 432x288 with 1 Axes>"
      ]
     },
     "metadata": {
      "needs_background": "light"
     },
     "output_type": "display_data"
    }
   ],
   "source": [
    "ax = link_merged.boxplot(column='log_click_rate')"
   ]
  },
  {
   "cell_type": "markdown",
   "id": "c73e8009",
   "metadata": {},
   "source": [
    "Here we can see the visualization of the `.describe()` method showing the mean, standard deviation, min, max, as well as the value of the click rate at the 25, 50, and 75th percentile.\n",
    "\n",
    "We can observe 2 outliers, implying that these two links were cliked multiple times in the same pageview. Also, we observe many outliers Q1, implying that they have very low click rate."
   ]
  },
  {
   "cell_type": "code",
   "execution_count": null,
   "id": "8bb33c60",
   "metadata": {},
   "outputs": [],
   "source": []
  }
 ],
 "metadata": {
  "kernelspec": {
   "display_name": "Python 3 (ipykernel)",
   "language": "python",
   "name": "python3"
  },
  "language_info": {
   "codemirror_mode": {
    "name": "ipython",
    "version": 3
   },
   "file_extension": ".py",
   "mimetype": "text/x-python",
   "name": "python",
   "nbconvert_exporter": "python",
   "pygments_lexer": "ipython3",
   "version": "3.9.12"
  }
 },
 "nbformat": 4,
 "nbformat_minor": 5
}
