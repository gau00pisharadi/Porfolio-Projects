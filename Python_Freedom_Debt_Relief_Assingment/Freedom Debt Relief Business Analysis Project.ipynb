{
 "cells": [
  {
   "cell_type": "markdown",
   "id": "15909b11",
   "metadata": {},
   "source": [
    "# Data Project from Freedom Debt Relief - Solution\n"
   ]
  },
  {
   "cell_type": "markdown",
   "id": "6ca39222",
   "metadata": {},
   "source": [
    "# Assignment\n",
    "Imagine that Freedom ran a recent marketing campaign to promote the value proposition of how the debt relief program helps people achieve financial freedom. Assume the cost of this campaign was $5 million. There are five months of data in the datasets provided. Let’s say campaign took place over the course of the third month. You now want to show the marketing, sales and operations teams just how successful this campaign was.\n",
    "\n",
    "Using the three datasets given:\n",
    "\n",
    "1. Provide a quantitative assessment of whether the marketing campaign was successful. How and why did you choose your specific success metric(s)?\n",
    "\n",
    "2. Based on the provided data, how would you recommend campaign strategy be adjusted in the future to improve performance?\n",
    "\n",
    "3. How do you think campaign performance would have changed if we did not run the campaign in Month 3, but instead postponed it until month 6? Provide an incremental number versus your result in Question #1.\n",
    "\n",
    "Assume the following:\n",
    "\n",
    "- There is no seasonality in the results, and the campaign spend was distributed evenly across Month 3 (i.e., spend on the first day is the same as spend on the last day).\n",
    "- Channel mix, targeting, and efficiency are outside the scope of this exercise.\n",
    "- There may be data provided that is not useful in your end presentation"
   ]
  },
  {
   "cell_type": "code",
   "execution_count": 2,
   "id": "1c0d6e88",
   "metadata": {},
   "outputs": [],
   "source": [
    "import numpy as np\n",
    "import pandas as pd\n",
    "import matplotlib.pyplot as plt\n",
    "import seaborn as sns\n",
    "%matplotlib inline"
   ]
  },
  {
   "cell_type": "code",
   "execution_count": 3,
   "id": "620cc0a7",
   "metadata": {},
   "outputs": [
    {
     "data": {
      "text/html": [
       "<div>\n",
       "<style scoped>\n",
       "    .dataframe tbody tr th:only-of-type {\n",
       "        vertical-align: middle;\n",
       "    }\n",
       "\n",
       "    .dataframe tbody tr th {\n",
       "        vertical-align: top;\n",
       "    }\n",
       "\n",
       "    .dataframe thead th {\n",
       "        text-align: right;\n",
       "    }\n",
       "</style>\n",
       "<table border=\"1\" class=\"dataframe\">\n",
       "  <thead>\n",
       "    <tr style=\"text-align: right;\">\n",
       "      <th></th>\n",
       "      <th>client_id</th>\n",
       "      <th>client_geographical_region</th>\n",
       "      <th>client_residence_status</th>\n",
       "      <th>client_age</th>\n",
       "    </tr>\n",
       "  </thead>\n",
       "  <tbody>\n",
       "    <tr>\n",
       "      <th>0</th>\n",
       "      <td>538839486596724</td>\n",
       "      <td>Northeast</td>\n",
       "      <td>Rent</td>\n",
       "      <td>91</td>\n",
       "    </tr>\n",
       "    <tr>\n",
       "      <th>1</th>\n",
       "      <td>321708286091707</td>\n",
       "      <td>West</td>\n",
       "      <td>Own</td>\n",
       "      <td>83</td>\n",
       "    </tr>\n",
       "    <tr>\n",
       "      <th>2</th>\n",
       "      <td>848531901757235</td>\n",
       "      <td>Midwest</td>\n",
       "      <td>Own</td>\n",
       "      <td>84</td>\n",
       "    </tr>\n",
       "    <tr>\n",
       "      <th>3</th>\n",
       "      <td>854405182328779</td>\n",
       "      <td>Northeast</td>\n",
       "      <td>Own</td>\n",
       "      <td>83</td>\n",
       "    </tr>\n",
       "    <tr>\n",
       "      <th>4</th>\n",
       "      <td>769102176031316</td>\n",
       "      <td>West</td>\n",
       "      <td>Own</td>\n",
       "      <td>85</td>\n",
       "    </tr>\n",
       "  </tbody>\n",
       "</table>\n",
       "</div>"
      ],
      "text/plain": [
       "         client_id client_geographical_region client_residence_status  \\\n",
       "0  538839486596724                  Northeast                    Rent   \n",
       "1  321708286091707                       West                     Own   \n",
       "2  848531901757235                    Midwest                     Own   \n",
       "3  854405182328779                  Northeast                     Own   \n",
       "4  769102176031316                       West                     Own   \n",
       "\n",
       "   client_age  \n",
       "0          91  \n",
       "1          83  \n",
       "2          84  \n",
       "3          83  \n",
       "4          85  "
      ]
     },
     "execution_count": 3,
     "metadata": {},
     "output_type": "execute_result"
    }
   ],
   "source": [
    "client_data= pd.read_csv(r\"C:\\Users\\Gautam\\Desktop\\jnotebook\\Projects\\Stratascratch_Freedom_debt_relief\\datasets\\client_data.csv\")\n",
    "client_data.head()"
   ]
  },
  {
   "cell_type": "code",
   "execution_count": 4,
   "id": "7d28c470",
   "metadata": {},
   "outputs": [
    {
     "data": {
      "text/html": [
       "<div>\n",
       "<style scoped>\n",
       "    .dataframe tbody tr th:only-of-type {\n",
       "        vertical-align: middle;\n",
       "    }\n",
       "\n",
       "    .dataframe tbody tr th {\n",
       "        vertical-align: top;\n",
       "    }\n",
       "\n",
       "    .dataframe thead th {\n",
       "        text-align: right;\n",
       "    }\n",
       "</style>\n",
       "<table border=\"1\" class=\"dataframe\">\n",
       "  <thead>\n",
       "    <tr style=\"text-align: right;\">\n",
       "      <th></th>\n",
       "      <th>client_id</th>\n",
       "      <th>deposit_type</th>\n",
       "      <th>deposit_amount</th>\n",
       "      <th>deposit_cadence</th>\n",
       "      <th>deposit_date</th>\n",
       "    </tr>\n",
       "  </thead>\n",
       "  <tbody>\n",
       "    <tr>\n",
       "      <th>0</th>\n",
       "      <td>446495122764671</td>\n",
       "      <td>Actual Deposit</td>\n",
       "      <td>303.0</td>\n",
       "      <td>Monthly</td>\n",
       "      <td>2019-10-23</td>\n",
       "    </tr>\n",
       "    <tr>\n",
       "      <th>1</th>\n",
       "      <td>446495122764671</td>\n",
       "      <td>Actual Deposit</td>\n",
       "      <td>303.0</td>\n",
       "      <td>Monthly</td>\n",
       "      <td>2019-09-23</td>\n",
       "    </tr>\n",
       "    <tr>\n",
       "      <th>2</th>\n",
       "      <td>446495122764671</td>\n",
       "      <td>Scheduled Deposit</td>\n",
       "      <td>303.0</td>\n",
       "      <td>Monthly</td>\n",
       "      <td>2019-09-23</td>\n",
       "    </tr>\n",
       "    <tr>\n",
       "      <th>3</th>\n",
       "      <td>446495122764671</td>\n",
       "      <td>Scheduled Deposit</td>\n",
       "      <td>303.0</td>\n",
       "      <td>Monthly</td>\n",
       "      <td>2019-10-23</td>\n",
       "    </tr>\n",
       "    <tr>\n",
       "      <th>4</th>\n",
       "      <td>446495122764671</td>\n",
       "      <td>Scheduled Deposit</td>\n",
       "      <td>303.0</td>\n",
       "      <td>Monthly</td>\n",
       "      <td>2019-06-23</td>\n",
       "    </tr>\n",
       "  </tbody>\n",
       "</table>\n",
       "</div>"
      ],
      "text/plain": [
       "         client_id       deposit_type  deposit_amount deposit_cadence  \\\n",
       "0  446495122764671     Actual Deposit           303.0         Monthly   \n",
       "1  446495122764671     Actual Deposit           303.0         Monthly   \n",
       "2  446495122764671  Scheduled Deposit           303.0         Monthly   \n",
       "3  446495122764671  Scheduled Deposit           303.0         Monthly   \n",
       "4  446495122764671  Scheduled Deposit           303.0         Monthly   \n",
       "\n",
       "  deposit_date  \n",
       "0   2019-10-23  \n",
       "1   2019-09-23  \n",
       "2   2019-09-23  \n",
       "3   2019-10-23  \n",
       "4   2019-06-23  "
      ]
     },
     "execution_count": 4,
     "metadata": {},
     "output_type": "execute_result"
    }
   ],
   "source": [
    "deposit_data= pd.read_csv(r\"C:\\Users\\Gautam\\Desktop\\jnotebook\\Projects\\Stratascratch_Freedom_debt_relief\\datasets\\deposit_data.csv\")\n",
    "deposit_data.head()"
   ]
  },
  {
   "cell_type": "code",
   "execution_count": 5,
   "id": "71ba2779",
   "metadata": {},
   "outputs": [
    {
     "data": {
      "text/html": [
       "<div>\n",
       "<style scoped>\n",
       "    .dataframe tbody tr th:only-of-type {\n",
       "        vertical-align: middle;\n",
       "    }\n",
       "\n",
       "    .dataframe tbody tr th {\n",
       "        vertical-align: top;\n",
       "    }\n",
       "\n",
       "    .dataframe thead th {\n",
       "        text-align: right;\n",
       "    }\n",
       "</style>\n",
       "<table border=\"1\" class=\"dataframe\">\n",
       "  <thead>\n",
       "    <tr style=\"text-align: right;\">\n",
       "      <th></th>\n",
       "      <th>gregorian_date</th>\n",
       "      <th>month_name</th>\n",
       "    </tr>\n",
       "  </thead>\n",
       "  <tbody>\n",
       "    <tr>\n",
       "      <th>0</th>\n",
       "      <td>2019-06-01</td>\n",
       "      <td>Month 1</td>\n",
       "    </tr>\n",
       "    <tr>\n",
       "      <th>1</th>\n",
       "      <td>2019-06-02</td>\n",
       "      <td>Month 1</td>\n",
       "    </tr>\n",
       "    <tr>\n",
       "      <th>2</th>\n",
       "      <td>2019-06-03</td>\n",
       "      <td>Month 1</td>\n",
       "    </tr>\n",
       "    <tr>\n",
       "      <th>3</th>\n",
       "      <td>2019-06-04</td>\n",
       "      <td>Month 1</td>\n",
       "    </tr>\n",
       "    <tr>\n",
       "      <th>4</th>\n",
       "      <td>2019-06-05</td>\n",
       "      <td>Month 1</td>\n",
       "    </tr>\n",
       "  </tbody>\n",
       "</table>\n",
       "</div>"
      ],
      "text/plain": [
       "  gregorian_date month_name\n",
       "0     2019-06-01    Month 1\n",
       "1     2019-06-02    Month 1\n",
       "2     2019-06-03    Month 1\n",
       "3     2019-06-04    Month 1\n",
       "4     2019-06-05    Month 1"
      ]
     },
     "execution_count": 5,
     "metadata": {},
     "output_type": "execute_result"
    }
   ],
   "source": [
    "calendar_data= pd.read_csv(r\"C:\\Users\\Gautam\\Desktop\\jnotebook\\Projects\\Stratascratch_Freedom_debt_relief\\datasets\\calendar_data.csv\")\n",
    "calendar_data.head()"
   ]
  },
  {
   "cell_type": "markdown",
   "id": "55620dd4",
   "metadata": {},
   "source": [
    "We will execute the merging in two steps:\n",
    "\n",
    "- Merge the client and the deposit data frames on the client ID column\n",
    "- Merge the resulting data frame from Step 1. with the calendar data set on the deposit / Gregorian date"
   ]
  },
  {
   "cell_type": "code",
   "execution_count": 6,
   "id": "e6c1922f",
   "metadata": {},
   "outputs": [
    {
     "data": {
      "text/html": [
       "<div>\n",
       "<style scoped>\n",
       "    .dataframe tbody tr th:only-of-type {\n",
       "        vertical-align: middle;\n",
       "    }\n",
       "\n",
       "    .dataframe tbody tr th {\n",
       "        vertical-align: top;\n",
       "    }\n",
       "\n",
       "    .dataframe thead th {\n",
       "        text-align: right;\n",
       "    }\n",
       "</style>\n",
       "<table border=\"1\" class=\"dataframe\">\n",
       "  <thead>\n",
       "    <tr style=\"text-align: right;\">\n",
       "      <th></th>\n",
       "      <th>client_id</th>\n",
       "      <th>client_geographical_region</th>\n",
       "      <th>client_residence_status</th>\n",
       "      <th>client_age</th>\n",
       "      <th>deposit_type</th>\n",
       "      <th>deposit_amount</th>\n",
       "      <th>deposit_cadence</th>\n",
       "      <th>deposit_date</th>\n",
       "    </tr>\n",
       "  </thead>\n",
       "  <tbody>\n",
       "    <tr>\n",
       "      <th>0</th>\n",
       "      <td>538839486596724</td>\n",
       "      <td>Northeast</td>\n",
       "      <td>Rent</td>\n",
       "      <td>91</td>\n",
       "      <td>Actual Deposit</td>\n",
       "      <td>10000.0</td>\n",
       "      <td>Extra</td>\n",
       "      <td>2019-07-11</td>\n",
       "    </tr>\n",
       "    <tr>\n",
       "      <th>1</th>\n",
       "      <td>321708286091707</td>\n",
       "      <td>West</td>\n",
       "      <td>Own</td>\n",
       "      <td>83</td>\n",
       "      <td>Actual Deposit</td>\n",
       "      <td>200.0</td>\n",
       "      <td>Extra</td>\n",
       "      <td>2019-10-19</td>\n",
       "    </tr>\n",
       "    <tr>\n",
       "      <th>2</th>\n",
       "      <td>321708286091707</td>\n",
       "      <td>West</td>\n",
       "      <td>Own</td>\n",
       "      <td>83</td>\n",
       "      <td>Actual Deposit</td>\n",
       "      <td>50.0</td>\n",
       "      <td>Extra</td>\n",
       "      <td>2019-08-26</td>\n",
       "    </tr>\n",
       "    <tr>\n",
       "      <th>3</th>\n",
       "      <td>321708286091707</td>\n",
       "      <td>West</td>\n",
       "      <td>Own</td>\n",
       "      <td>83</td>\n",
       "      <td>Scheduled Deposit</td>\n",
       "      <td>200.0</td>\n",
       "      <td>Monthly</td>\n",
       "      <td>2019-08-01</td>\n",
       "    </tr>\n",
       "    <tr>\n",
       "      <th>4</th>\n",
       "      <td>321708286091707</td>\n",
       "      <td>West</td>\n",
       "      <td>Own</td>\n",
       "      <td>83</td>\n",
       "      <td>Actual Deposit</td>\n",
       "      <td>200.0</td>\n",
       "      <td>Monthly</td>\n",
       "      <td>2019-09-01</td>\n",
       "    </tr>\n",
       "  </tbody>\n",
       "</table>\n",
       "</div>"
      ],
      "text/plain": [
       "         client_id client_geographical_region client_residence_status  \\\n",
       "0  538839486596724                  Northeast                    Rent   \n",
       "1  321708286091707                       West                     Own   \n",
       "2  321708286091707                       West                     Own   \n",
       "3  321708286091707                       West                     Own   \n",
       "4  321708286091707                       West                     Own   \n",
       "\n",
       "   client_age       deposit_type  deposit_amount deposit_cadence deposit_date  \n",
       "0          91     Actual Deposit         10000.0           Extra   2019-07-11  \n",
       "1          83     Actual Deposit           200.0           Extra   2019-10-19  \n",
       "2          83     Actual Deposit            50.0           Extra   2019-08-26  \n",
       "3          83  Scheduled Deposit           200.0         Monthly   2019-08-01  \n",
       "4          83     Actual Deposit           200.0         Monthly   2019-09-01  "
      ]
     },
     "execution_count": 6,
     "metadata": {},
     "output_type": "execute_result"
    }
   ],
   "source": [
    "df= pd.merge(client_data,deposit_data, on='client_id')\n",
    "df.head()"
   ]
  },
  {
   "cell_type": "code",
   "execution_count": 7,
   "id": "ecd9f22b",
   "metadata": {},
   "outputs": [
    {
     "data": {
      "text/html": [
       "<div>\n",
       "<style scoped>\n",
       "    .dataframe tbody tr th:only-of-type {\n",
       "        vertical-align: middle;\n",
       "    }\n",
       "\n",
       "    .dataframe tbody tr th {\n",
       "        vertical-align: top;\n",
       "    }\n",
       "\n",
       "    .dataframe thead th {\n",
       "        text-align: right;\n",
       "    }\n",
       "</style>\n",
       "<table border=\"1\" class=\"dataframe\">\n",
       "  <thead>\n",
       "    <tr style=\"text-align: right;\">\n",
       "      <th></th>\n",
       "      <th>client_id</th>\n",
       "      <th>client_geographical_region</th>\n",
       "      <th>client_residence_status</th>\n",
       "      <th>client_age</th>\n",
       "      <th>deposit_type</th>\n",
       "      <th>deposit_amount</th>\n",
       "      <th>deposit_cadence</th>\n",
       "      <th>deposit_date</th>\n",
       "      <th>gregorian_date</th>\n",
       "      <th>month_name</th>\n",
       "    </tr>\n",
       "  </thead>\n",
       "  <tbody>\n",
       "    <tr>\n",
       "      <th>0</th>\n",
       "      <td>538839486596724</td>\n",
       "      <td>Northeast</td>\n",
       "      <td>Rent</td>\n",
       "      <td>91</td>\n",
       "      <td>Actual Deposit</td>\n",
       "      <td>10000.0</td>\n",
       "      <td>Extra</td>\n",
       "      <td>2019-07-11</td>\n",
       "      <td>2019-07-11</td>\n",
       "      <td>Month 2</td>\n",
       "    </tr>\n",
       "    <tr>\n",
       "      <th>1</th>\n",
       "      <td>773610304672603</td>\n",
       "      <td>West</td>\n",
       "      <td>Rent</td>\n",
       "      <td>24</td>\n",
       "      <td>Scheduled Deposit</td>\n",
       "      <td>100.0</td>\n",
       "      <td>Biweekly</td>\n",
       "      <td>2019-07-11</td>\n",
       "      <td>2019-07-11</td>\n",
       "      <td>Month 2</td>\n",
       "    </tr>\n",
       "    <tr>\n",
       "      <th>2</th>\n",
       "      <td>773610304672603</td>\n",
       "      <td>West</td>\n",
       "      <td>Rent</td>\n",
       "      <td>24</td>\n",
       "      <td>Actual Deposit</td>\n",
       "      <td>100.0</td>\n",
       "      <td>Biweekly</td>\n",
       "      <td>2019-07-11</td>\n",
       "      <td>2019-07-11</td>\n",
       "      <td>Month 2</td>\n",
       "    </tr>\n",
       "    <tr>\n",
       "      <th>3</th>\n",
       "      <td>552219454660531</td>\n",
       "      <td>West</td>\n",
       "      <td>Own</td>\n",
       "      <td>85</td>\n",
       "      <td>Scheduled Deposit</td>\n",
       "      <td>290.0</td>\n",
       "      <td>Biweekly</td>\n",
       "      <td>2019-07-11</td>\n",
       "      <td>2019-07-11</td>\n",
       "      <td>Month 2</td>\n",
       "    </tr>\n",
       "    <tr>\n",
       "      <th>4</th>\n",
       "      <td>55107102575545</td>\n",
       "      <td>Midwest</td>\n",
       "      <td>Own</td>\n",
       "      <td>83</td>\n",
       "      <td>Scheduled Deposit</td>\n",
       "      <td>438.0</td>\n",
       "      <td>Monthly</td>\n",
       "      <td>2019-07-11</td>\n",
       "      <td>2019-07-11</td>\n",
       "      <td>Month 2</td>\n",
       "    </tr>\n",
       "  </tbody>\n",
       "</table>\n",
       "</div>"
      ],
      "text/plain": [
       "         client_id client_geographical_region client_residence_status  \\\n",
       "0  538839486596724                  Northeast                    Rent   \n",
       "1  773610304672603                       West                    Rent   \n",
       "2  773610304672603                       West                    Rent   \n",
       "3  552219454660531                       West                     Own   \n",
       "4   55107102575545                    Midwest                     Own   \n",
       "\n",
       "   client_age       deposit_type  deposit_amount deposit_cadence deposit_date  \\\n",
       "0          91     Actual Deposit         10000.0           Extra   2019-07-11   \n",
       "1          24  Scheduled Deposit           100.0        Biweekly   2019-07-11   \n",
       "2          24     Actual Deposit           100.0        Biweekly   2019-07-11   \n",
       "3          85  Scheduled Deposit           290.0        Biweekly   2019-07-11   \n",
       "4          83  Scheduled Deposit           438.0         Monthly   2019-07-11   \n",
       "\n",
       "  gregorian_date month_name  \n",
       "0     2019-07-11    Month 2  \n",
       "1     2019-07-11    Month 2  \n",
       "2     2019-07-11    Month 2  \n",
       "3     2019-07-11    Month 2  \n",
       "4     2019-07-11    Month 2  "
      ]
     },
     "execution_count": 7,
     "metadata": {},
     "output_type": "execute_result"
    }
   ],
   "source": [
    "df= pd.merge(df,calendar_data,left_on='deposit_date',right_on='gregorian_date')\n",
    "df.head()"
   ]
  },
  {
   "cell_type": "markdown",
   "id": "6a9960ac",
   "metadata": {},
   "source": [
    "The resulting data frame contains two columns representing the date; one is in the gregorian date format, while the other is in the deposit date format. We remove the column with the gregorian date format."
   ]
  },
  {
   "cell_type": "markdown",
   "id": "98300c67",
   "metadata": {},
   "source": [
    "# Data Cleaning"
   ]
  },
  {
   "cell_type": "code",
   "execution_count": 8,
   "id": "98f2e43a",
   "metadata": {},
   "outputs": [
    {
     "data": {
      "text/html": [
       "<div>\n",
       "<style scoped>\n",
       "    .dataframe tbody tr th:only-of-type {\n",
       "        vertical-align: middle;\n",
       "    }\n",
       "\n",
       "    .dataframe tbody tr th {\n",
       "        vertical-align: top;\n",
       "    }\n",
       "\n",
       "    .dataframe thead th {\n",
       "        text-align: right;\n",
       "    }\n",
       "</style>\n",
       "<table border=\"1\" class=\"dataframe\">\n",
       "  <thead>\n",
       "    <tr style=\"text-align: right;\">\n",
       "      <th></th>\n",
       "      <th>client_id</th>\n",
       "      <th>client_geographical_region</th>\n",
       "      <th>client_residence_status</th>\n",
       "      <th>client_age</th>\n",
       "      <th>deposit_type</th>\n",
       "      <th>deposit_amount</th>\n",
       "      <th>deposit_cadence</th>\n",
       "      <th>gregorian_date</th>\n",
       "      <th>month_name</th>\n",
       "    </tr>\n",
       "  </thead>\n",
       "  <tbody>\n",
       "    <tr>\n",
       "      <th>0</th>\n",
       "      <td>538839486596724</td>\n",
       "      <td>Northeast</td>\n",
       "      <td>Rent</td>\n",
       "      <td>91</td>\n",
       "      <td>Actual Deposit</td>\n",
       "      <td>10000.0</td>\n",
       "      <td>Extra</td>\n",
       "      <td>2019-07-11</td>\n",
       "      <td>Month 2</td>\n",
       "    </tr>\n",
       "    <tr>\n",
       "      <th>1</th>\n",
       "      <td>773610304672603</td>\n",
       "      <td>West</td>\n",
       "      <td>Rent</td>\n",
       "      <td>24</td>\n",
       "      <td>Scheduled Deposit</td>\n",
       "      <td>100.0</td>\n",
       "      <td>Biweekly</td>\n",
       "      <td>2019-07-11</td>\n",
       "      <td>Month 2</td>\n",
       "    </tr>\n",
       "    <tr>\n",
       "      <th>2</th>\n",
       "      <td>773610304672603</td>\n",
       "      <td>West</td>\n",
       "      <td>Rent</td>\n",
       "      <td>24</td>\n",
       "      <td>Actual Deposit</td>\n",
       "      <td>100.0</td>\n",
       "      <td>Biweekly</td>\n",
       "      <td>2019-07-11</td>\n",
       "      <td>Month 2</td>\n",
       "    </tr>\n",
       "    <tr>\n",
       "      <th>3</th>\n",
       "      <td>552219454660531</td>\n",
       "      <td>West</td>\n",
       "      <td>Own</td>\n",
       "      <td>85</td>\n",
       "      <td>Scheduled Deposit</td>\n",
       "      <td>290.0</td>\n",
       "      <td>Biweekly</td>\n",
       "      <td>2019-07-11</td>\n",
       "      <td>Month 2</td>\n",
       "    </tr>\n",
       "    <tr>\n",
       "      <th>4</th>\n",
       "      <td>55107102575545</td>\n",
       "      <td>Midwest</td>\n",
       "      <td>Own</td>\n",
       "      <td>83</td>\n",
       "      <td>Scheduled Deposit</td>\n",
       "      <td>438.0</td>\n",
       "      <td>Monthly</td>\n",
       "      <td>2019-07-11</td>\n",
       "      <td>Month 2</td>\n",
       "    </tr>\n",
       "  </tbody>\n",
       "</table>\n",
       "</div>"
      ],
      "text/plain": [
       "         client_id client_geographical_region client_residence_status  \\\n",
       "0  538839486596724                  Northeast                    Rent   \n",
       "1  773610304672603                       West                    Rent   \n",
       "2  773610304672603                       West                    Rent   \n",
       "3  552219454660531                       West                     Own   \n",
       "4   55107102575545                    Midwest                     Own   \n",
       "\n",
       "   client_age       deposit_type  deposit_amount deposit_cadence  \\\n",
       "0          91     Actual Deposit         10000.0           Extra   \n",
       "1          24  Scheduled Deposit           100.0        Biweekly   \n",
       "2          24     Actual Deposit           100.0        Biweekly   \n",
       "3          85  Scheduled Deposit           290.0        Biweekly   \n",
       "4          83  Scheduled Deposit           438.0         Monthly   \n",
       "\n",
       "  gregorian_date month_name  \n",
       "0     2019-07-11    Month 2  \n",
       "1     2019-07-11    Month 2  \n",
       "2     2019-07-11    Month 2  \n",
       "3     2019-07-11    Month 2  \n",
       "4     2019-07-11    Month 2  "
      ]
     },
     "execution_count": 8,
     "metadata": {},
     "output_type": "execute_result"
    }
   ],
   "source": [
    "df.drop('deposit_date',axis=1,inplace=True)\n",
    "df.head()"
   ]
  },
  {
   "cell_type": "code",
   "execution_count": 9,
   "id": "3f832fe1",
   "metadata": {},
   "outputs": [
    {
     "data": {
      "text/html": [
       "<div>\n",
       "<style scoped>\n",
       "    .dataframe tbody tr th:only-of-type {\n",
       "        vertical-align: middle;\n",
       "    }\n",
       "\n",
       "    .dataframe tbody tr th {\n",
       "        vertical-align: top;\n",
       "    }\n",
       "\n",
       "    .dataframe thead th {\n",
       "        text-align: right;\n",
       "    }\n",
       "</style>\n",
       "<table border=\"1\" class=\"dataframe\">\n",
       "  <thead>\n",
       "    <tr style=\"text-align: right;\">\n",
       "      <th></th>\n",
       "      <th>client_id</th>\n",
       "      <th>client_geographical_region</th>\n",
       "      <th>client_residence_status</th>\n",
       "      <th>client_age</th>\n",
       "      <th>deposit_type</th>\n",
       "      <th>deposit_amount</th>\n",
       "      <th>deposit_cadence</th>\n",
       "      <th>deposit_date</th>\n",
       "      <th>month_name</th>\n",
       "    </tr>\n",
       "  </thead>\n",
       "  <tbody>\n",
       "    <tr>\n",
       "      <th>0</th>\n",
       "      <td>538839486596724</td>\n",
       "      <td>Northeast</td>\n",
       "      <td>Rent</td>\n",
       "      <td>91</td>\n",
       "      <td>Actual Deposit</td>\n",
       "      <td>10000.0</td>\n",
       "      <td>Extra</td>\n",
       "      <td>2019-07-11</td>\n",
       "      <td>Month 2</td>\n",
       "    </tr>\n",
       "    <tr>\n",
       "      <th>1</th>\n",
       "      <td>773610304672603</td>\n",
       "      <td>West</td>\n",
       "      <td>Rent</td>\n",
       "      <td>24</td>\n",
       "      <td>Scheduled Deposit</td>\n",
       "      <td>100.0</td>\n",
       "      <td>Biweekly</td>\n",
       "      <td>2019-07-11</td>\n",
       "      <td>Month 2</td>\n",
       "    </tr>\n",
       "    <tr>\n",
       "      <th>2</th>\n",
       "      <td>773610304672603</td>\n",
       "      <td>West</td>\n",
       "      <td>Rent</td>\n",
       "      <td>24</td>\n",
       "      <td>Actual Deposit</td>\n",
       "      <td>100.0</td>\n",
       "      <td>Biweekly</td>\n",
       "      <td>2019-07-11</td>\n",
       "      <td>Month 2</td>\n",
       "    </tr>\n",
       "    <tr>\n",
       "      <th>3</th>\n",
       "      <td>552219454660531</td>\n",
       "      <td>West</td>\n",
       "      <td>Own</td>\n",
       "      <td>85</td>\n",
       "      <td>Scheduled Deposit</td>\n",
       "      <td>290.0</td>\n",
       "      <td>Biweekly</td>\n",
       "      <td>2019-07-11</td>\n",
       "      <td>Month 2</td>\n",
       "    </tr>\n",
       "    <tr>\n",
       "      <th>4</th>\n",
       "      <td>55107102575545</td>\n",
       "      <td>Midwest</td>\n",
       "      <td>Own</td>\n",
       "      <td>83</td>\n",
       "      <td>Scheduled Deposit</td>\n",
       "      <td>438.0</td>\n",
       "      <td>Monthly</td>\n",
       "      <td>2019-07-11</td>\n",
       "      <td>Month 2</td>\n",
       "    </tr>\n",
       "  </tbody>\n",
       "</table>\n",
       "</div>"
      ],
      "text/plain": [
       "         client_id client_geographical_region client_residence_status  \\\n",
       "0  538839486596724                  Northeast                    Rent   \n",
       "1  773610304672603                       West                    Rent   \n",
       "2  773610304672603                       West                    Rent   \n",
       "3  552219454660531                       West                     Own   \n",
       "4   55107102575545                    Midwest                     Own   \n",
       "\n",
       "   client_age       deposit_type  deposit_amount deposit_cadence deposit_date  \\\n",
       "0          91     Actual Deposit         10000.0           Extra   2019-07-11   \n",
       "1          24  Scheduled Deposit           100.0        Biweekly   2019-07-11   \n",
       "2          24     Actual Deposit           100.0        Biweekly   2019-07-11   \n",
       "3          85  Scheduled Deposit           290.0        Biweekly   2019-07-11   \n",
       "4          83  Scheduled Deposit           438.0         Monthly   2019-07-11   \n",
       "\n",
       "  month_name  \n",
       "0    Month 2  \n",
       "1    Month 2  \n",
       "2    Month 2  \n",
       "3    Month 2  \n",
       "4    Month 2  "
      ]
     },
     "execution_count": 9,
     "metadata": {},
     "output_type": "execute_result"
    }
   ],
   "source": [
    "df.rename(columns={\"gregorian_date\":\"deposit_date\"},inplace=True)\n",
    "df.head()"
   ]
  },
  {
   "cell_type": "code",
   "execution_count": 10,
   "id": "c787b1f3",
   "metadata": {},
   "outputs": [
    {
     "name": "stdout",
     "output_type": "stream",
     "text": [
      "<class 'pandas.core.frame.DataFrame'>\n",
      "Int64Index: 480394 entries, 0 to 480393\n",
      "Data columns (total 9 columns):\n",
      " #   Column                      Non-Null Count   Dtype  \n",
      "---  ------                      --------------   -----  \n",
      " 0   client_id                   480394 non-null  int64  \n",
      " 1   client_geographical_region  480394 non-null  object \n",
      " 2   client_residence_status     480394 non-null  object \n",
      " 3   client_age                  480394 non-null  int64  \n",
      " 4   deposit_type                480394 non-null  object \n",
      " 5   deposit_amount              480394 non-null  float64\n",
      " 6   deposit_cadence             480394 non-null  object \n",
      " 7   deposit_date                480394 non-null  object \n",
      " 8   month_name                  480394 non-null  object \n",
      "dtypes: float64(1), int64(2), object(6)\n",
      "memory usage: 36.7+ MB\n"
     ]
    }
   ],
   "source": [
    "df.info()"
   ]
  },
  {
   "cell_type": "code",
   "execution_count": 11,
   "id": "b55f1943",
   "metadata": {},
   "outputs": [
    {
     "data": {
      "text/plain": [
       "client_id                     0\n",
       "client_geographical_region    0\n",
       "client_residence_status       0\n",
       "client_age                    0\n",
       "deposit_type                  0\n",
       "deposit_amount                0\n",
       "deposit_cadence               0\n",
       "deposit_date                  0\n",
       "month_name                    0\n",
       "dtype: int64"
      ]
     },
     "execution_count": 11,
     "metadata": {},
     "output_type": "execute_result"
    }
   ],
   "source": [
    "df.isna().sum()"
   ]
  },
  {
   "cell_type": "markdown",
   "id": "61724bc5",
   "metadata": {},
   "source": [
    "# Data Exploration"
   ]
  },
  {
   "cell_type": "code",
   "execution_count": 12,
   "id": "4520f909",
   "metadata": {},
   "outputs": [
    {
     "data": {
      "text/plain": [
       "West         205629\n",
       "South        108004\n",
       "Midwest       88185\n",
       "Northeast     78576\n",
       "Name: client_geographical_region, dtype: int64"
      ]
     },
     "execution_count": 12,
     "metadata": {},
     "output_type": "execute_result"
    }
   ],
   "source": [
    "df['client_geographical_region'].value_counts()"
   ]
  },
  {
   "cell_type": "code",
   "execution_count": 13,
   "id": "ba3985ea",
   "metadata": {},
   "outputs": [
    {
     "data": {
      "text/plain": [
       "Own     345432\n",
       "Rent    134962\n",
       "Name: client_residence_status, dtype: int64"
      ]
     },
     "execution_count": 13,
     "metadata": {},
     "output_type": "execute_result"
    }
   ],
   "source": [
    "df['client_residence_status'].value_counts()"
   ]
  },
  {
   "cell_type": "code",
   "execution_count": 14,
   "id": "dc078e3b",
   "metadata": {},
   "outputs": [
    {
     "data": {
      "text/plain": [
       "count    480394.000000\n",
       "mean         52.192469\n",
       "std          13.773928\n",
       "min          21.000000\n",
       "25%          41.000000\n",
       "50%          52.000000\n",
       "75%          62.000000\n",
       "max         105.000000\n",
       "Name: client_age, dtype: float64"
      ]
     },
     "execution_count": 14,
     "metadata": {},
     "output_type": "execute_result"
    }
   ],
   "source": [
    "df['client_age'].describe()"
   ]
  },
  {
   "cell_type": "code",
   "execution_count": 15,
   "id": "0e89651a",
   "metadata": {},
   "outputs": [
    {
     "data": {
      "text/plain": [
       "<AxesSubplot:xlabel='client_age', ylabel='Count'>"
      ]
     },
     "execution_count": 15,
     "metadata": {},
     "output_type": "execute_result"
    },
    {
     "data": {
      "image/png": "[encoded data removed]",
      "text/plain": [
       "<Figure size 432x288 with 1 Axes>"
      ]
     },
     "metadata": {
      "needs_background": "light"
     },
     "output_type": "display_data"
    }
   ],
   "source": [
    "sns.histplot(df['client_age'], bins=10)"
   ]
  },
  {
   "cell_type": "code",
   "execution_count": 16,
   "id": "838ef0ad",
   "metadata": {},
   "outputs": [
    {
     "data": {
      "text/plain": [
       "Month 3    108505\n",
       "Month 4    107494\n",
       "Month 5    106363\n",
       "Month 2     80205\n",
       "Month 1     77827\n",
       "Name: month_name, dtype: int64"
      ]
     },
     "execution_count": 16,
     "metadata": {},
     "output_type": "execute_result"
    }
   ],
   "source": [
    "df['month_name'].value_counts()"
   ]
  },
  {
   "cell_type": "code",
   "execution_count": 17,
   "id": "56b30d0b",
   "metadata": {},
   "outputs": [
    {
     "data": {
      "text/plain": [
       "('2019-10-31', '2019-06-01')"
      ]
     },
     "execution_count": 17,
     "metadata": {},
     "output_type": "execute_result"
    }
   ],
   "source": [
    "df['deposit_date'].max(),df['deposit_date'].min()"
   ]
  },
  {
   "cell_type": "markdown",
   "id": "944915ab",
   "metadata": {},
   "source": [
    "So, the data spans from 01 June 2019 to 31 October 2019."
   ]
  },
  {
   "cell_type": "code",
   "execution_count": 18,
   "id": "007cbcc6",
   "metadata": {},
   "outputs": [
    {
     "data": {
      "text/plain": [
       "Scheduled Deposit    247986\n",
       "Actual Deposit       232408\n",
       "Name: deposit_type, dtype: int64"
      ]
     },
     "execution_count": 18,
     "metadata": {},
     "output_type": "execute_result"
    }
   ],
   "source": [
    "df['deposit_type'].value_counts()"
   ]
  },
  {
   "cell_type": "code",
   "execution_count": 19,
   "id": "a88bb8e6",
   "metadata": {},
   "outputs": [
    {
     "data": {
      "text/plain": [
       "Monthly     262858\n",
       "Biweekly    209189\n",
       "Extra         8347\n",
       "Name: deposit_cadence, dtype: int64"
      ]
     },
     "execution_count": 19,
     "metadata": {},
     "output_type": "execute_result"
    }
   ],
   "source": [
    "df['deposit_cadence'].value_counts()"
   ]
  },
  {
   "cell_type": "code",
   "execution_count": 20,
   "id": "94cf9c46",
   "metadata": {},
   "outputs": [],
   "source": [
    "df['deposit_date']=pd.to_datetime(df['deposit_date'])"
   ]
  },
  {
   "cell_type": "code",
   "execution_count": 21,
   "id": "2038e1d4",
   "metadata": {},
   "outputs": [
    {
     "name": "stdout",
     "output_type": "stream",
     "text": [
      "month_name\n",
      "Month 1    29284830.86\n",
      "Month 2    29886431.27\n",
      "Month 3    39675057.10\n",
      "Month 4    38515819.73\n",
      "Month 5    38081175.23\n",
      "Name: deposit_amount, dtype: float64\n"
     ]
    },
    {
     "data": {
      "text/plain": [
       "Text(0, 0.5, 'Amount')"
      ]
     },
     "execution_count": 21,
     "metadata": {},
     "output_type": "execute_result"
    },
    {
     "data": {
      "image/png": "[encoded data removed]",
      "text/plain": [
       "<Figure size 720x432 with 1 Axes>"
      ]
     },
     "metadata": {
      "needs_background": "light"
     },
     "output_type": "display_data"
    }
   ],
   "source": [
    "amount_by_month=df.groupby('month_name')['deposit_amount'].sum()\n",
    "print(amount_by_month)\n",
    "plt.figure(figsize=(10,6))\n",
    "plt.plot(amount_by_month)\n",
    "plt.title(\"Deposit amount per month\")\n",
    "plt.xlabel('Month')\n",
    "plt.ylabel('Amount')\n"
   ]
  },
  {
   "cell_type": "code",
   "execution_count": 22,
   "id": "cd69655c",
   "metadata": {},
   "outputs": [
    {
     "data": {
      "text/plain": [
       "Text(0, 0.5, 'Number of deposits')"
      ]
     },
     "execution_count": 22,
     "metadata": {},
     "output_type": "execute_result"
    },
    {
     "data": {
      "image/png": "[encoded data removed]",
      "text/plain": [
       "<Figure size 720x432 with 1 Axes>"
      ]
     },
     "metadata": {
      "needs_background": "light"
     },
     "output_type": "display_data"
    }
   ],
   "source": [
    "count_deposits_by_month= df.groupby('month_name').size()\n",
    "plt.figure(figsize=(10,6))\n",
    "plt.plot(count_deposits_by_month)\n",
    "plt.title(\"Number of deposits per month\")\n",
    "plt.xlabel('Month')\n",
    "plt.ylabel('Number of deposits')"
   ]
  },
  {
   "cell_type": "code",
   "execution_count": 23,
   "id": "1cfe0ddd",
   "metadata": {},
   "outputs": [
    {
     "data": {
      "text/plain": [
       "Text(0, 0.5, 'Deposit amount')"
      ]
     },
     "execution_count": 23,
     "metadata": {},
     "output_type": "execute_result"
    },
    {
     "data": {
      "image/png": "[encoded data removed]",
      "text/plain": [
       "<Figure size 720x432 with 1 Axes>"
      ]
     },
     "metadata": {
      "needs_background": "light"
     },
     "output_type": "display_data"
    }
   ],
   "source": [
    "deposit_amount_by_type=df.groupby('deposit_type')['deposit_amount'].sum()\n",
    "plt.figure(figsize=(10,6))\n",
    "plt.bar(deposit_amount_by_type.index,deposit_amount_by_type)\n",
    "plt.title(\"Deposit amount By Type\")\n",
    "plt.xlabel('Deposit Type')\n",
    "plt.ylabel('Deposit amount')"
   ]
  },
  {
   "cell_type": "code",
   "execution_count": 24,
   "id": "5e07df18",
   "metadata": {},
   "outputs": [
    {
     "data": {
      "text/plain": [
       "Text(0, 0.5, 'Deposit amount')"
      ]
     },
     "execution_count": 24,
     "metadata": {},
     "output_type": "execute_result"
    },
    {
     "data": {
      "image/png": "[encoded data removed]",
      "text/plain": [
       "<Figure size 720x432 with 1 Axes>"
      ]
     },
     "metadata": {
      "needs_background": "light"
     },
     "output_type": "display_data"
    }
   ],
   "source": [
    "deposit_amount_by_cadence=df.groupby('deposit_cadence')['deposit_amount'].sum()\n",
    "plt.figure(figsize=(10,6))\n",
    "plt.bar(deposit_amount_by_cadence.index,deposit_amount_by_cadence)\n",
    "plt.title(\"Deposit amount By Cadence\")\n",
    "plt.xlabel('Deposit Cadence')\n",
    "plt.ylabel('Deposit amount')"
   ]
  },
  {
   "cell_type": "code",
   "execution_count": 25,
   "id": "c1e2a302",
   "metadata": {},
   "outputs": [
    {
     "data": {
      "text/plain": [
       "<AxesSubplot:title={'center':'Deposit amount per month and status'}, xlabel='month_name', ylabel='deposit_amount'>"
      ]
     },
     "execution_count": 25,
     "metadata": {},
     "output_type": "execute_result"
    },
    {
     "data": {
      "image/png": "[encoded data removed]",
      "text/plain": [
       "<Figure size 720x432 with 1 Axes>"
      ]
     },
     "metadata": {
      "needs_background": "light"
     },
     "output_type": "display_data"
    }
   ],
   "source": [
    "client_status_month_amount=df.groupby(['month_name' ,'client_residence_status'])['deposit_amount'].sum().to_frame('deposit_amount')\n",
    "plt.figure(figsize=(10,6))\n",
    "plt.title(\"Deposit amount per month and status\")\n",
    "sns.lineplot(x=client_status_month_amount.index.get_level_values('month_name'),\n",
    "             y=client_status_month_amount['deposit_amount'],data='client_status_month_amount', \n",
    "             hue = client_status_month_amount.index.get_level_values('client_residence_status'))"
   ]
  },
  {
   "cell_type": "code",
   "execution_count": 26,
   "id": "0c891ba2",
   "metadata": {},
   "outputs": [
    {
     "data": {
      "text/plain": [
       "<AxesSubplot:title={'center':'Deposit amount per month and deposit type'}, xlabel='month_name', ylabel='deposit_amount'>"
      ]
     },
     "execution_count": 26,
     "metadata": {},
     "output_type": "execute_result"
    },
    {
     "data": {
      "image/png": "[encoded data removed]",
      "text/plain": [
       "<Figure size 720x432 with 1 Axes>"
      ]
     },
     "metadata": {
      "needs_background": "light"
     },
     "output_type": "display_data"
    }
   ],
   "source": [
    "deposit_type_month_amount=df.groupby(['month_name' ,'deposit_type'])['deposit_amount'].sum().to_frame('deposit_amount')\n",
    "plt.figure(figsize=(10,6))\n",
    "plt.title(\"Deposit amount per month and deposit type\")\n",
    "sns.lineplot(x=deposit_type_month_amount.index.get_level_values('month_name'),\n",
    "             y=deposit_type_month_amount['deposit_amount'],data='deposit_type_month_amount', \n",
    "             hue = deposit_type_month_amount.index.get_level_values('deposit_type'))"
   ]
  },
  {
   "cell_type": "code",
   "execution_count": 27,
   "id": "183a0d1f",
   "metadata": {},
   "outputs": [
    {
     "data": {
      "text/plain": [
       "<AxesSubplot:title={'center':'Deposit amount per month and cadence'}, xlabel='month_name', ylabel='deposit_amount'>"
      ]
     },
     "execution_count": 27,
     "metadata": {},
     "output_type": "execute_result"
    },
    {
     "data": {
      "image/png": "[encoded data removed]",
      "text/plain": [
       "<Figure size 720x432 with 1 Axes>"
      ]
     },
     "metadata": {
      "needs_background": "light"
     },
     "output_type": "display_data"
    }
   ],
   "source": [
    "deposit_cadence_month_amount=df.groupby(['month_name' ,'deposit_cadence'])['deposit_amount'].sum().to_frame('deposit_amount')\n",
    "plt.figure(figsize=(10,6))\n",
    "plt.title(\"Deposit amount per month and cadence\")\n",
    "sns.lineplot(x=deposit_cadence_month_amount.index.get_level_values('month_name'),\n",
    "             y=deposit_cadence_month_amount['deposit_amount'],data='deposite_cadence_month_amount', \n",
    "             hue = deposit_cadence_month_amount.index.get_level_values('deposit_cadence'))"
   ]
  },
  {
   "cell_type": "code",
   "execution_count": 28,
   "id": "d7327bf1",
   "metadata": {},
   "outputs": [
    {
     "data": {
      "text/plain": [
       "<AxesSubplot:title={'center':'Deposit amount per month and region'}, xlabel='month_name', ylabel='deposit_amount'>"
      ]
     },
     "execution_count": 28,
     "metadata": {},
     "output_type": "execute_result"
    },
    {
     "data": {
      "image/png": "[encoded data removed]",
      "text/plain": [
       "<Figure size 720x432 with 1 Axes>"
      ]
     },
     "metadata": {
      "needs_background": "light"
     },
     "output_type": "display_data"
    }
   ],
   "source": [
    "region_month_amount=df.groupby(['month_name' ,'client_geographical_region'])['deposit_amount'].sum().to_frame('deposit_amount')\n",
    "plt.figure(figsize=(10,6))\n",
    "plt.title(\"Deposit amount per month and region\")\n",
    "sns.lineplot(x=region_month_amount.index.get_level_values('month_name'),\n",
    "             y=region_month_amount['deposit_amount'],data='region_month_amount', \n",
    "             hue = region_month_amount.index.get_level_values('client_geographical_region'))"
   ]
  },
  {
   "cell_type": "markdown",
   "id": "209ee575",
   "metadata": {},
   "source": [
    "# Question 1\n",
    "\n",
    "__Provide a quantitative assessment of whether the marketing campaign was successful. How and why did you choose your specific success metric(s)?__\n",
    "\n",
    "We can see from the above line plot titled \"Deposit amount per month\" that a huge spike can be noticed for the Month 3 (i.e. between months of July and August in the current year). This coincides with ad-campaign running in the 3rd month.\n",
    "\n",
    "- The Freedom Debt Relief recieved almost `$10 Million` increment in the month in which the campaign was running<br>\n",
    "\n",
    "- After the marketing campaign, the overall deposit amount begins to decrease gradually, but it remains higher than the pre-campaign levels. The amount of deposits in the month directly following the campaign is `$8.5 million`, and in the last month of the data, it is `$8 million`<br>\n",
    "\n",
    "- The cost of the advertising campaign was `$5 million`, and it resulted in a total increase in deposits of `$26.5 million`. Based on online research, the company charges a fee of `18-25%` for its services, but there is no information on how this fee is calculated for individual clients. Assuming the lowest fee of `18%` for all clients, the company's profits increase by `$4.77 million (26.5M * 18$%)`. Although this might appear to be a loss of `$230K` for the campaign, it is important to note that the upward trend in deposits would have been much lower without the campaign. Additionally, it is unlikely that the minimum fee is applicable to all clients, so this is the most pessimistic estimate.\n",
    "\n",
    "We can also see this through the following operations."
   ]
  },
  {
   "cell_type": "code",
   "execution_count": 29,
   "id": "44a7fdbb",
   "metadata": {},
   "outputs": [
    {
     "data": {
      "text/plain": [
       "(34051,)"
      ]
     },
     "execution_count": 29,
     "metadata": {},
     "output_type": "execute_result"
    }
   ],
   "source": [
    "clients_before_ad= df[(df['month_name']=='Month 1')|(df['month_name']=='Month 2')]['client_id'].unique()\n",
    "clients_before_ad.shape"
   ]
  },
  {
   "cell_type": "code",
   "execution_count": 31,
   "id": "7fc29306",
   "metadata": {},
   "outputs": [
    {
     "data": {
      "text/plain": [
       "(43806,)"
      ]
     },
     "execution_count": 31,
     "metadata": {},
     "output_type": "execute_result"
    }
   ],
   "source": [
    "clients_during_ad=df[(df['month_name']=='Month 3')]['client_id'].unique()\n",
    "clients_during_ad.shape"
   ]
  },
  {
   "cell_type": "code",
   "execution_count": 32,
   "id": "b8f19e5c",
   "metadata": {},
   "outputs": [
    {
     "data": {
      "text/plain": [
       "(41862,)"
      ]
     },
     "execution_count": 32,
     "metadata": {},
     "output_type": "execute_result"
    }
   ],
   "source": [
    "clients_after_ad= df[(df['month_name']=='Month 4')|(df['month_name']=='Month 5')]['client_id'].unique()\n",
    "clients_after_ad.shape"
   ]
  },
  {
   "cell_type": "markdown",
   "id": "fd431cca",
   "metadata": {},
   "source": [
    "__Question:__ How many new clients were acquired while the ad campaign was running?"
   ]
  },
  {
   "cell_type": "code",
   "execution_count": 33,
   "id": "6c467390",
   "metadata": {},
   "outputs": [
    {
     "data": {
      "text/plain": [
       "11544"
      ]
     },
     "execution_count": 33,
     "metadata": {},
     "output_type": "execute_result"
    }
   ],
   "source": [
    "len(set(clients_during_ad).difference(set(clients_before_ad)))"
   ]
  },
  {
   "cell_type": "markdown",
   "id": "60bb2597",
   "metadata": {},
   "source": [
    "__Question:__ How many new clients were acquired after the ad campaign ran?"
   ]
  },
  {
   "cell_type": "code",
   "execution_count": 34,
   "id": "a948330f",
   "metadata": {},
   "outputs": [
    {
     "data": {
      "text/plain": [
       "752"
      ]
     },
     "execution_count": 34,
     "metadata": {},
     "output_type": "execute_result"
    }
   ],
   "source": [
    "len(set(clients_after_ad).difference(set(clients_during_ad).union(set(clients_before_ad))))"
   ]
  },
  {
   "cell_type": "markdown",
   "id": "5accf7ce",
   "metadata": {},
   "source": [
    "# Question 2\n",
    "\n",
    "__Based on the provided data, how would you recommend campaign strategy be adjusted in the future to improve performance?__\n",
    "\n",
    "\n",
    "\n",
    "The majority of the plots demonstrate consistent patterns over time, making it challenging to provide recommendations. \n",
    "\n",
    "However, one approach that could be explored further is targeted marketing. It is noticeable from the age histogram and the count per residence status in the EDA section that the majority of individuals in the data are middle-aged (between 40-60 years old) and homeowners. \n",
    "\n",
    "To further investigate this, we will display a plot depicting the deposit amount changes over time and age groups (with age being divided by 10)."
   ]
  },
  {
   "cell_type": "code",
   "execution_count": 35,
   "id": "93056197",
   "metadata": {},
   "outputs": [
    {
     "data": {
      "text/html": [
       "<div>\n",
       "<style scoped>\n",
       "    .dataframe tbody tr th:only-of-type {\n",
       "        vertical-align: middle;\n",
       "    }\n",
       "\n",
       "    .dataframe tbody tr th {\n",
       "        vertical-align: top;\n",
       "    }\n",
       "\n",
       "    .dataframe thead th {\n",
       "        text-align: right;\n",
       "    }\n",
       "</style>\n",
       "<table border=\"1\" class=\"dataframe\">\n",
       "  <thead>\n",
       "    <tr style=\"text-align: right;\">\n",
       "      <th></th>\n",
       "      <th>client_id</th>\n",
       "      <th>client_geographical_region</th>\n",
       "      <th>client_residence_status</th>\n",
       "      <th>client_age</th>\n",
       "      <th>deposit_type</th>\n",
       "      <th>deposit_amount</th>\n",
       "      <th>deposit_cadence</th>\n",
       "      <th>deposit_date</th>\n",
       "      <th>month_name</th>\n",
       "      <th>age_group</th>\n",
       "    </tr>\n",
       "  </thead>\n",
       "  <tbody>\n",
       "    <tr>\n",
       "      <th>0</th>\n",
       "      <td>538839486596724</td>\n",
       "      <td>Northeast</td>\n",
       "      <td>Rent</td>\n",
       "      <td>91</td>\n",
       "      <td>Actual Deposit</td>\n",
       "      <td>10000.0</td>\n",
       "      <td>Extra</td>\n",
       "      <td>2019-07-11</td>\n",
       "      <td>Month 2</td>\n",
       "      <td>9</td>\n",
       "    </tr>\n",
       "    <tr>\n",
       "      <th>1</th>\n",
       "      <td>773610304672603</td>\n",
       "      <td>West</td>\n",
       "      <td>Rent</td>\n",
       "      <td>24</td>\n",
       "      <td>Scheduled Deposit</td>\n",
       "      <td>100.0</td>\n",
       "      <td>Biweekly</td>\n",
       "      <td>2019-07-11</td>\n",
       "      <td>Month 2</td>\n",
       "      <td>2</td>\n",
       "    </tr>\n",
       "    <tr>\n",
       "      <th>2</th>\n",
       "      <td>773610304672603</td>\n",
       "      <td>West</td>\n",
       "      <td>Rent</td>\n",
       "      <td>24</td>\n",
       "      <td>Actual Deposit</td>\n",
       "      <td>100.0</td>\n",
       "      <td>Biweekly</td>\n",
       "      <td>2019-07-11</td>\n",
       "      <td>Month 2</td>\n",
       "      <td>2</td>\n",
       "    </tr>\n",
       "    <tr>\n",
       "      <th>3</th>\n",
       "      <td>552219454660531</td>\n",
       "      <td>West</td>\n",
       "      <td>Own</td>\n",
       "      <td>85</td>\n",
       "      <td>Scheduled Deposit</td>\n",
       "      <td>290.0</td>\n",
       "      <td>Biweekly</td>\n",
       "      <td>2019-07-11</td>\n",
       "      <td>Month 2</td>\n",
       "      <td>8</td>\n",
       "    </tr>\n",
       "    <tr>\n",
       "      <th>4</th>\n",
       "      <td>55107102575545</td>\n",
       "      <td>Midwest</td>\n",
       "      <td>Own</td>\n",
       "      <td>83</td>\n",
       "      <td>Scheduled Deposit</td>\n",
       "      <td>438.0</td>\n",
       "      <td>Monthly</td>\n",
       "      <td>2019-07-11</td>\n",
       "      <td>Month 2</td>\n",
       "      <td>8</td>\n",
       "    </tr>\n",
       "  </tbody>\n",
       "</table>\n",
       "</div>"
      ],
      "text/plain": [
       "         client_id client_geographical_region client_residence_status  \\\n",
       "0  538839486596724                  Northeast                    Rent   \n",
       "1  773610304672603                       West                    Rent   \n",
       "2  773610304672603                       West                    Rent   \n",
       "3  552219454660531                       West                     Own   \n",
       "4   55107102575545                    Midwest                     Own   \n",
       "\n",
       "   client_age       deposit_type  deposit_amount deposit_cadence deposit_date  \\\n",
       "0          91     Actual Deposit         10000.0           Extra   2019-07-11   \n",
       "1          24  Scheduled Deposit           100.0        Biweekly   2019-07-11   \n",
       "2          24     Actual Deposit           100.0        Biweekly   2019-07-11   \n",
       "3          85  Scheduled Deposit           290.0        Biweekly   2019-07-11   \n",
       "4          83  Scheduled Deposit           438.0         Monthly   2019-07-11   \n",
       "\n",
       "  month_name  age_group  \n",
       "0    Month 2          9  \n",
       "1    Month 2          2  \n",
       "2    Month 2          2  \n",
       "3    Month 2          8  \n",
       "4    Month 2          8  "
      ]
     },
     "execution_count": 35,
     "metadata": {},
     "output_type": "execute_result"
    }
   ],
   "source": [
    "df['age_group']=(df['client_age']/10).astype(int)\n",
    "df.head()"
   ]
  },
  {
   "cell_type": "code",
   "execution_count": 36,
   "id": "6b54808e",
   "metadata": {},
   "outputs": [
    {
     "data": {
      "text/plain": [
       "<AxesSubplot:title={'center':'Deposit amount per month and Age group'}, xlabel='month_name', ylabel='deposit_amount'>"
      ]
     },
     "execution_count": 36,
     "metadata": {},
     "output_type": "execute_result"
    },
    {
     "data": {
      "image/png": "[encoded data removed]",
      "text/plain": [
       "<Figure size 720x432 with 1 Axes>"
      ]
     },
     "metadata": {
      "needs_background": "light"
     },
     "output_type": "display_data"
    }
   ],
   "source": [
    "age_grp_month_deposit= df.groupby(['month_name','age_group'])['deposit_amount'].sum().to_frame('deposit_amount')\n",
    "plt.figure(figsize=(10,6))\n",
    "plt.title(\"Deposit amount per month and Age group\")\n",
    "sns.lineplot(x=age_grp_month_deposit.index.get_level_values('month_name'),\n",
    "             y=age_grp_month_deposit['deposit_amount'],data='age_grp_month_deposit', \n",
    "             hue = age_grp_month_deposit.index.get_level_values('age_group'),\n",
    "             palette= 'bright')"
   ]
  },
  {
   "cell_type": "markdown",
   "id": "b5f12bf4",
   "metadata": {},
   "source": [
    "We can observe that there is not much increase in middle-aged customers and negligible increase in old-age customers. Better engagement with the middle-aged customers could result in more deposits."
   ]
  },
  {
   "cell_type": "code",
   "execution_count": 39,
   "id": "6251ee04",
   "metadata": {},
   "outputs": [
    {
     "name": "stdout",
     "output_type": "stream",
     "text": [
      "<class 'pandas.core.frame.DataFrame'>\n",
      "Int64Index: 181068 entries, 307 to 479525\n",
      "Data columns (total 10 columns):\n",
      " #   Column                      Non-Null Count   Dtype         \n",
      "---  ------                      --------------   -----         \n",
      " 0   client_id                   181068 non-null  int64         \n",
      " 1   client_geographical_region  181068 non-null  object        \n",
      " 2   client_residence_status     181068 non-null  object        \n",
      " 3   client_age                  181068 non-null  int64         \n",
      " 4   deposit_type                181068 non-null  object        \n",
      " 5   deposit_amount              181068 non-null  float64       \n",
      " 6   deposit_cadence             181068 non-null  object        \n",
      " 7   deposit_date                181068 non-null  datetime64[ns]\n",
      " 8   month_name                  181068 non-null  object        \n",
      " 9   age_group                   181068 non-null  int32         \n",
      "dtypes: datetime64[ns](1), float64(1), int32(1), int64(2), object(5)\n",
      "memory usage: 14.5+ MB\n"
     ]
    }
   ],
   "source": [
    "own_age_deposit= df[(df[\"client_residence_status\"] == \"Own\") & (df[\"client_age\"] <= 60) & (df[\"client_age\"] >= 40)]\n",
    "own_age_deposit.info()"
   ]
  },
  {
   "cell_type": "code",
   "execution_count": 44,
   "id": "40cb3dec",
   "metadata": {},
   "outputs": [
    {
     "data": {
      "text/plain": [
       "<AxesSubplot:title={'center':'Deposit amount per month and Type'}, xlabel='month_name', ylabel='Count'>"
      ]
     },
     "execution_count": 44,
     "metadata": {},
     "output_type": "execute_result"
    },
    {
     "data": {
      "image/png": "[encoded data removed]",
      "text/plain": [
       "<Figure size 720x432 with 1 Axes>"
      ]
     },
     "metadata": {
      "needs_background": "light"
     },
     "output_type": "display_data"
    }
   ],
   "source": [
    "own_age_type_deposit=own_age_deposit.groupby(['month_name','deposit_type'])['deposit_type'].count().to_frame('Count')\n",
    "plt.figure(figsize=(10,6))\n",
    "plt.title(\"Deposit amount per month and Type\")\n",
    "sns.lineplot(x=own_age_type_deposit.index.get_level_values('month_name'),\n",
    "             y=own_age_type_deposit['Count'],data='own_age_type_deposit', \n",
    "             hue = own_age_type_deposit.index.get_level_values('deposit_type'),\n",
    "             palette= 'bright')"
   ]
  },
  {
   "cell_type": "code",
   "execution_count": 46,
   "id": "a7268997",
   "metadata": {},
   "outputs": [
    {
     "data": {
      "text/plain": [
       "0.4234867523021417"
      ]
     },
     "execution_count": 46,
     "metadata": {},
     "output_type": "execute_result"
    }
   ],
   "source": [
    "own_age_deposit_extra= own_age_deposit[own_age_deposit[\"deposit_cadence\"] == \"Extra\"][\"deposit_amount\"].sum()\n",
    "df_extra= df[df[\"deposit_cadence\"] == \"Extra\"][\"deposit_amount\"].sum()\n",
    "             \n",
    "own_age_deposit_extra/df_extra"
   ]
  },
  {
   "cell_type": "code",
   "execution_count": 47,
   "id": "933fbdc2",
   "metadata": {},
   "outputs": [
    {
     "data": {
      "text/plain": [
       "0.3769156150992727"
      ]
     },
     "execution_count": 47,
     "metadata": {},
     "output_type": "execute_result"
    }
   ],
   "source": [
    "own_age_deposit['client_id'].count()/df['client_id'].count()"
   ]
  },
  {
   "cell_type": "markdown",
   "id": "6a59e7c4",
   "metadata": {},
   "source": [
    "Out of all the clients, this particular subgroup is accountable for 42% of the additional deposited funds, despite comprising only 37% of the total customer base."
   ]
  },
  {
   "cell_type": "code",
   "execution_count": 48,
   "id": "8aa8b549",
   "metadata": {},
   "outputs": [
    {
     "data": {
      "text/plain": [
       "West         3570\n",
       "South        1991\n",
       "Midwest      1486\n",
       "Northeast    1300\n",
       "Name: client_geographical_region, dtype: int64"
      ]
     },
     "execution_count": 48,
     "metadata": {},
     "output_type": "execute_result"
    }
   ],
   "source": [
    "df[df[\"deposit_cadence\"] == \"Extra\"][\"client_geographical_region\"].value_counts()"
   ]
  },
  {
   "cell_type": "code",
   "execution_count": 49,
   "id": "ed66c6ad",
   "metadata": {},
   "outputs": [
    {
     "data": {
      "text/plain": [
       "Own     5856\n",
       "Rent    2491\n",
       "Name: client_residence_status, dtype: int64"
      ]
     },
     "execution_count": 49,
     "metadata": {},
     "output_type": "execute_result"
    }
   ],
   "source": [
    "df[df[\"deposit_cadence\"] == \"Extra\"][\"client_residence_status\"].value_counts()"
   ]
  },
  {
   "cell_type": "code",
   "execution_count": 50,
   "id": "6af2e10f",
   "metadata": {},
   "outputs": [
    {
     "data": {
      "text/plain": [
       "Actual Deposit    8347\n",
       "Name: deposit_type, dtype: int64"
      ]
     },
     "execution_count": 50,
     "metadata": {},
     "output_type": "execute_result"
    }
   ],
   "source": [
    "df[df[\"deposit_cadence\"] == \"Extra\"][\"deposit_type\"].value_counts()"
   ]
  },
  {
   "cell_type": "code",
   "execution_count": 51,
   "id": "9eae6627",
   "metadata": {},
   "outputs": [
    {
     "data": {
      "text/plain": [
       "Month 3    2235\n",
       "Month 4    1898\n",
       "Month 5    1846\n",
       "Month 2    1274\n",
       "Month 1    1094\n",
       "Name: month_name, dtype: int64"
      ]
     },
     "execution_count": 51,
     "metadata": {},
     "output_type": "execute_result"
    }
   ],
   "source": [
    "df[df[\"deposit_cadence\"] == \"Extra\"][\"month_name\"].value_counts()"
   ]
  },
  {
   "cell_type": "markdown",
   "id": "a19b928d",
   "metadata": {},
   "source": [
    "To summarize the information provided earlier:\n",
    "\n",
    "- Extra deposits are mostly concentrated in the West region, which is consistent with the overall deposit patterns.\n",
    "- Clients who own their homes are more than twice as likely to make extra deposits compared to those who rent.\n",
    "- Month 3, during which the campaign was conducted, saw the highest number of extra deposits, and post-campaign figures show a 33% increase in extra deposits compared to pre-campaign."
   ]
  },
  {
   "cell_type": "markdown",
   "id": "6f1163d1",
   "metadata": {},
   "source": [
    "# Question 3\n",
    "\n",
    "__How do you think campaign performance would have changed if we did not run the campaign in Month 3, but instead postponed it until month 6? Provide an incremental number versus your result in Question 1.__\n",
    "\n",
    "To simulate the effect of postponing the campaign, we can take the following steps:\n",
    "\n",
    "1. Determine which clients made their initial deposit during the third month, which we assume were acquired due to the campaign.\n",
    "2. Delay their deposits by three months, so they occur after the fifth month.\n",
    "3. Conduct the same analyses as in Question 1, comparing the results with and without the postponed deposits to understand the impact of delaying the campaign.\n",
    "\n",
    "Summarize the differences observed in the analyses."
   ]
  },
  {
   "cell_type": "code",
   "execution_count": 53,
   "id": "1871b8b8",
   "metadata": {},
   "outputs": [],
   "source": [
    "new_clients = set(clients_during_ad).difference(set(clients_before_ad))"
   ]
  },
  {
   "cell_type": "code",
   "execution_count": 57,
   "id": "1d040494",
   "metadata": {},
   "outputs": [],
   "source": [
    "df_copy = df.copy(deep=True)\n"
   ]
  },
  {
   "cell_type": "code",
   "execution_count": 58,
   "id": "7b7320c3",
   "metadata": {},
   "outputs": [],
   "source": [
    "import datetime\n",
    "\n",
    "def simulate_campaign_postponement(row):\n",
    "    if row.client_id in new_clients:\n",
    "        row.deposit_date = pd.to_datetime(row.deposit_date) + datetime.timedelta(days=90)\n",
    "        if row.month_name == \"Month 3\":\n",
    "            row.month_name = \"Month 6\"\n",
    "        elif row.month_name == \"Month 4\":\n",
    "            row.month_name = \"Month 7\"\n",
    "        elif row.month_name == \"Month 5\":\n",
    "            row.month_name = \"Month 8\"\n",
    "    else:\n",
    "        row.deposit_date = pd.to_datetime(row.deposit_date)\n",
    "    return row\n",
    "df_copy = df_copy.apply(func=simulate_campaign_postponement, axis=1)"
   ]
  },
  {
   "cell_type": "code",
   "execution_count": 60,
   "id": "88d22aee",
   "metadata": {},
   "outputs": [
    {
     "name": "stdout",
     "output_type": "stream",
     "text": [
      "Deposit amount per month month_name\n",
      "Month 1    29284830.86\n",
      "Month 2    29886431.27\n",
      "Month 3    30002419.69\n",
      "Month 4    27306769.25\n",
      "Month 5    28138150.45\n",
      "Month 6     9672637.41\n",
      "Month 7    11209050.48\n",
      "Month 8     9943024.78\n",
      "Name: deposit_amount, dtype: float64\n"
     ]
    },
    {
     "data": {
      "image/png": "[encoded data removed]",
      "text/plain": [
       "<Figure size 720x432 with 1 Axes>"
      ]
     },
     "metadata": {
      "needs_background": "light"
     },
     "output_type": "display_data"
    }
   ],
   "source": [
    "deposit_amount_by_month = df_copy.groupby(by=df_copy[\"month_name\"])[\"deposit_amount\"].sum()\n",
    "\n",
    "print(\"Deposit amount per month\", deposit_amount_by_month)\n",
    "\n",
    "plt.figure(figsize=(10,6))\n",
    "_ = plt.plot(deposit_amount_by_month)\n",
    "_ = plt.title(\"Deposit amount by month\")\n",
    "_ = plt.ylabel(\"Deposit amount\")\n",
    "_ = plt.xlabel(\"Month\")"
   ]
  },
  {
   "cell_type": "markdown",
   "id": "890090fe",
   "metadata": {},
   "source": [
    "The plots may appear unusual because for months 6, 7, and 8, we only have data from new customers, which is typically lower than the overall average deposit amount.\n",
    "\n",
    "To address this issue and simulate the deposits from existing customers, we can add an average deposit amount from the preceding months to the new customer data."
   ]
  },
  {
   "cell_type": "code",
   "execution_count": 61,
   "id": "bb754673",
   "metadata": {},
   "outputs": [],
   "source": [
    "avg_monthly_deposit = (df_copy.groupby(by=df_copy[\"month_name\"])[\"deposit_amount\"].sum()).mean()\n"
   ]
  },
  {
   "cell_type": "code",
   "execution_count": 62,
   "id": "71b0f804",
   "metadata": {},
   "outputs": [
    {
     "data": {
      "text/plain": [
       "21930414.273749996"
      ]
     },
     "execution_count": 62,
     "metadata": {},
     "output_type": "execute_result"
    }
   ],
   "source": [
    "avg_monthly_deposit\n"
   ]
  },
  {
   "cell_type": "code",
   "execution_count": 64,
   "id": "be8fcff9",
   "metadata": {},
   "outputs": [
    {
     "name": "stdout",
     "output_type": "stream",
     "text": [
      "month_name\n",
      "Month 1    2.928483e+07\n",
      "Month 2    2.988643e+07\n",
      "Month 3    3.000242e+07\n",
      "Month 4    2.730677e+07\n",
      "Month 5    2.813815e+07\n",
      "Month 6    3.160305e+07\n",
      "Month 7    3.313946e+07\n",
      "Month 8    3.187344e+07\n",
      "Name: deposit_amount, dtype: float64\n"
     ]
    },
    {
     "data": {
      "image/png": "[encoded data removed]",
      "text/plain": [
       "<Figure size 720x432 with 1 Axes>"
      ]
     },
     "metadata": {
      "needs_background": "light"
     },
     "output_type": "display_data"
    }
   ],
   "source": [
    "deposit_amount_by_month = df_copy.groupby(by=df_copy[\"month_name\"])[\"deposit_amount\"].sum()\n",
    "\n",
    "\n",
    "deposit_amount_by_month.at[\"Month 6\"] += avg_monthly_deposit\n",
    "deposit_amount_by_month.at[\"Month 7\"] += avg_monthly_deposit\n",
    "deposit_amount_by_month.at[\"Month 8\"] += avg_monthly_deposit\n",
    "\n",
    "print(deposit_amount_by_month)\n",
    "\n",
    "plt.figure(figsize=(10,6))\n",
    "_ = plt.plot(deposit_amount_by_month)\n",
    "\n",
    "_ = plt.title(\"Deposit amount by month\")\n",
    "_ = plt.ylabel(\"Deposit amount\")\n",
    "_ = plt.xlabel(\"Month\")\n"
   ]
  },
  {
   "cell_type": "markdown",
   "id": "70e794fb",
   "metadata": {},
   "source": [
    "Based on the simulation results, the impact of postponing the campaign on Freedom Debt Relief's deposit amounts can be summarized as follows:\n",
    "\n",
    "- During the month when the campaign was conducted, the increase in deposit amounts was approximately `$2.5 million`, compared to the `$10 million` increase observed in Question 1.\n",
    "- Following the campaign, total deposit amounts continued to rise, peaking at `$33 million` in the month after the campaign. In the final month, deposit amounts declined slightly to `$31 million` but remained higher than pre-campaign levels.\n",
    "- The campaign cost `$5 million`, and the additional deposits resulting from the campaign amounted to `$8 million`. This is significantly lower than the `$26 million` increase calculated in Question 1, indicating that postponing the campaign would not have been a wise decision."
   ]
  },
  {
   "cell_type": "code",
   "execution_count": null,
   "id": "d72a3671",
   "metadata": {},
   "outputs": [],
   "source": []
  }
 ],
 "metadata": {
  "kernelspec": {
   "display_name": "Python 3 (ipykernel)",
   "language": "python",
   "name": "python3"
  },
  "language_info": {
   "codemirror_mode": {
    "name": "ipython",
    "version": 3
   },
   "file_extension": ".py",
   "mimetype": "text/x-python",
   "name": "python",
   "nbconvert_exporter": "python",
   "pygments_lexer": "ipython3",
   "version": "3.9.12"
  }
 },
 "nbformat": 4,
 "nbformat_minor": 5
}
